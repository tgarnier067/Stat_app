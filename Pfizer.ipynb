{
 "cells": [
  {
   "cell_type": "markdown",
   "metadata": {},
   "source": [
    "# Chapitre 1 : Le score de communication verte"
   ]
  },
  {
   "cell_type": "markdown",
   "metadata": {},
   "source": [
    "## Définition des termes environnementaux"
   ]
  },
  {
   "cell_type": "markdown",
   "metadata": {},
   "source": [
    "### Choix des sources"
   ]
  },
  {
   "cell_type": "markdown",
   "metadata": {},
   "source": [
    "Pour identifier les termes pertinents liés à la communication environnementale, il est essentiel de s'appuyer sur des sources fiables et reconnues. Les sources académiques telles que les revues spécialisées en études environnementales offrent une base de connaissances approfondie et actualisée. De plus, les rapports publiés par des organisations environnementales reconnues comme le WWF ou l'UNEP fournissent des informations pertinentes sur les tendances et les problématiques environnementales actuelles. Les études de cas, souvent disponibles dans ces publications, offrent des exemples concrets de communication environnementale dans divers contextes."
   ]
  },
  {
   "cell_type": "code",
   "execution_count": 3,
   "metadata": {},
   "outputs": [
    {
     "name": "stdout",
     "output_type": "stream",
     "text": [
      "Sources Académiques: ['Journal of Environmental Studies', 'Ecology and Society', 'Environmental Science & Technology']\n",
      "Rapports d'Organisations Environnementales: ['Rapport WWF sur la biodiversité', \"Rapport de l'UNEP sur le changement climatique\", 'Études de cas sur la durabilité de Greenpeace']\n"
     ]
    }
   ],
   "source": [
    "sources_academiques = [\"Journal of Environmental Studies\", \"Ecology and Society\", \"Environmental Science & Technology\"]\n",
    "rapports_organisations = [\"Rapport WWF sur la biodiversité\", \"Rapport de l'UNEP sur le changement climatique\", \"Études de cas sur la durabilité de Greenpeace\"]\n",
    "\n",
    "print(\"Sources Académiques:\", sources_academiques)\n",
    "print(\"Rapports d'Organisations Environnementales:\", rapports_organisations)\n"
   ]
  },
  {
   "cell_type": "markdown",
   "metadata": {},
   "source": [
    "### Création du dictionnaire"
   ]
  },
  {
   "cell_type": "code",
   "execution_count": 6,
   "metadata": {},
   "outputs": [
    {
     "name": "stdout",
     "output_type": "stream",
     "text": [
      "La communication est négative pour l'environnement.\n"
     ]
    }
   ],
   "source": [
    "dictionnaire_positif = {\n",
    "    \"propre\": 1,\n",
    "    \"écologique\": 1,\n",
    "    \"durable\": 1,\n",
    "    \"vert\": 1,\n",
    "    \"responsable\": 1,\n",
    "    \"économie d'énergie\": 1,\n",
    "    \"renouvelable\": 1,\n",
    "    \"conservation\": 1,\n",
    "    \"biodiversité\": 1,\n",
    "    # Ajoutez d'autres termes positifs ici\n",
    "}\n",
    "\n",
    "dictionnaire_negatif = {\n",
    "    \"pollution\": -1,\n",
    "    \"déchet\": -1,\n",
    "    \"déforestation\": -1,\n",
    "    \"émissions de gaz à effet de serre\": -1,\n",
    "    \"contamination\": -1,\n",
    "    \"destructeur\": -1,\n",
    "    \"irresponsable\": -1,\n",
    "    \"gaspillage\": -1,\n",
    "    \"nuisible\": -1,\n",
    "    # Ajoutez d'autres termes négatifs ici\n",
    "}\n",
    "\n",
    "# Exemple d'utilisation des dictionnaires\n",
    "phrase = \"Cette entreprise s'engage à lutter contre la pollution et à promouvoir des pratiques écologiques.\"\n",
    "\n",
    "mots = phrase.split()\n",
    "\n",
    "score_total = 0\n",
    "for mot in mots:\n",
    "    if mot in dictionnaire_positif:\n",
    "        score_total += dictionnaire_positif[mot]\n",
    "    elif mot in dictionnaire_negatif:\n",
    "        score_total += dictionnaire_negatif[mot]\n",
    "\n",
    "if score_total > 0:\n",
    "    print(\"La communication est positive pour l'environnement.\")\n",
    "elif score_total < 0:\n",
    "    print(\"La communication est négative pour l'environnement.\")\n",
    "else:\n",
    "    print(\"La communication est neutre pour l'environnement.\")\n",
    "\n"
   ]
  },
  {
   "cell_type": "code",
   "execution_count": 1,
   "metadata": {},
   "outputs": [
    {
     "name": "stdout",
     "output_type": "stream",
     "text": [
      "Hit:1 http://security.ubuntu.com/ubuntu focal-security InRelease\n",
      "Hit:2 https://packages.microsoft.com/repos/microsoft-ubuntu-focal-prod focal InRelease\n",
      "Hit:3 https://dl.yarnpkg.com/debian stable InRelease                           \n",
      "Hit:4 https://repo.anaconda.com/pkgs/misc/debrepo/conda stable InRelease       \n",
      "Hit:5 http://archive.ubuntu.com/ubuntu focal InRelease                         \n",
      "Get:6 https://dl.google.com/linux/chrome/deb stable InRelease [1825 B]         \n",
      "Get:7 http://archive.ubuntu.com/ubuntu focal-updates InRelease [114 kB]        \n",
      "Hit:8 http://archive.ubuntu.com/ubuntu focal-backports InRelease               \n",
      "Get:10 https://dl.google.com/linux/chrome/deb stable/main amd64 Packages [1083 B]\n",
      "Hit:9 https://packagecloud.io/github/git-lfs/ubuntu focal InRelease\n",
      "Fetched 117 kB in 1s (82.2 kB/s)\n",
      "Reading package lists... Done\n",
      "Reading package lists... Done\n",
      "Building dependency tree       \n",
      "Reading state information... Done\n",
      "libxi6 is already the newest version (2:1.7.10-0ubuntu1).\n",
      "libgconf-2-4 is already the newest version (3.2.6-6ubuntu1).\n",
      "unzip is already the newest version (6.0-25ubuntu1.1).\n",
      "xvfb is already the newest version (2:1.20.13-1ubuntu1~20.04.12).\n",
      "0 upgraded, 0 newly installed, 0 to remove and 24 not upgraded.\n",
      "Reading package lists... Done\n",
      "Building dependency tree       \n",
      "Reading state information... Done\n",
      "chromium-chromedriver is already the newest version (1:85.0.4183.83-0ubuntu0.20.04.3).\n",
      "0 upgraded, 0 newly installed, 0 to remove and 24 not upgraded.\n",
      "cp: '/usr/lib/chromium-browser/chromedriver' and '/usr/bin/chromedriver' are the same file\n",
      "--2023-12-22 08:44:48--  https://dl.google.com/linux/direct/google-chrome-stable_current_amd64.deb\n",
      "Resolving dl.google.com (dl.google.com)... 216.58.204.78, 2a00:1450:4009:81d::200e\n",
      "Connecting to dl.google.com (dl.google.com)|216.58.204.78|:443... connected.\n",
      "HTTP request sent, awaiting response... 200 OK\n",
      "Length: 104953176 (100M) [application/x-debian-package]\n",
      "Saving to: ‘/tmp/chrome.deb’\n",
      "\n",
      "/tmp/chrome.deb     100%[===================>] 100.09M   130MB/s    in 0.8s    \n",
      "\n",
      "2023-12-22 08:44:49 (130 MB/s) - ‘/tmp/chrome.deb’ saved [104953176/104953176]\n",
      "\n",
      "Hit:1 http://security.ubuntu.com/ubuntu focal-security InRelease\n",
      "Hit:2 https://dl.yarnpkg.com/debian stable InRelease                           \n",
      "Hit:3 https://packages.microsoft.com/repos/microsoft-ubuntu-focal-prod focal InRelease\n",
      "Hit:4 https://repo.anaconda.com/pkgs/misc/debrepo/conda stable InRelease       \n",
      "Hit:5 https://dl.google.com/linux/chrome/deb stable InRelease                  \n",
      "Hit:6 http://archive.ubuntu.com/ubuntu focal InRelease                         \n",
      "Hit:7 http://archive.ubuntu.com/ubuntu focal-updates InRelease          \n",
      "Hit:8 http://archive.ubuntu.com/ubuntu focal-backports InRelease       \n",
      "Hit:9 https://packagecloud.io/github/git-lfs/ubuntu focal InRelease    \n",
      "Reading package lists... Done\n",
      "Reading package lists... Done\n",
      "Building dependency tree       \n",
      "Reading state information... Done\n",
      "Note, selecting 'google-chrome-stable' instead of '/tmp/chrome.deb'\n",
      "google-chrome-stable is already the newest version (120.0.6099.129-1).\n",
      "0 upgraded, 0 newly installed, 0 to remove and 24 not upgraded.\n",
      "Requirement already satisfied: chromedriver-autoinstaller in /usr/local/python/3.10.13/lib/python3.10/site-packages (0.6.3)\n",
      "Requirement already satisfied: selenium in /usr/local/python/3.10.13/lib/python3.10/site-packages (4.16.0)\n",
      "Requirement already satisfied: packaging>=23.1 in /home/codespace/.local/lib/python3.10/site-packages (from chromedriver-autoinstaller) (23.2)\n",
      "Requirement already satisfied: urllib3<3,>=1.26 in /usr/local/python/3.10.13/lib/python3.10/site-packages (from urllib3[socks]<3,>=1.26->selenium) (2.0.7)\n",
      "Requirement already satisfied: trio~=0.17 in /usr/local/python/3.10.13/lib/python3.10/site-packages (from selenium) (0.23.2)\n",
      "Requirement already satisfied: trio-websocket~=0.9 in /usr/local/python/3.10.13/lib/python3.10/site-packages (from selenium) (0.11.1)\n",
      "Requirement already satisfied: certifi>=2021.10.8 in /home/codespace/.local/lib/python3.10/site-packages (from selenium) (2023.11.17)\n",
      "Requirement already satisfied: attrs>=20.1.0 in /home/codespace/.local/lib/python3.10/site-packages (from trio~=0.17->selenium) (23.1.0)\n",
      "Requirement already satisfied: sortedcontainers in /usr/local/python/3.10.13/lib/python3.10/site-packages (from trio~=0.17->selenium) (2.4.0)\n",
      "Requirement already satisfied: idna in /home/codespace/.local/lib/python3.10/site-packages (from trio~=0.17->selenium) (3.6)\n",
      "Requirement already satisfied: outcome in /usr/local/python/3.10.13/lib/python3.10/site-packages (from trio~=0.17->selenium) (1.3.0.post0)\n",
      "Requirement already satisfied: sniffio>=1.3.0 in /home/codespace/.local/lib/python3.10/site-packages (from trio~=0.17->selenium) (1.3.0)\n",
      "Requirement already satisfied: exceptiongroup in /home/codespace/.local/lib/python3.10/site-packages (from trio~=0.17->selenium) (1.2.0)\n",
      "Requirement already satisfied: wsproto>=0.14 in /usr/local/python/3.10.13/lib/python3.10/site-packages (from trio-websocket~=0.9->selenium) (1.2.0)\n",
      "Requirement already satisfied: pysocks!=1.5.7,<2.0,>=1.5.6 in /usr/local/python/3.10.13/lib/python3.10/site-packages (from urllib3[socks]<3,>=1.26->selenium) (1.7.1)\n",
      "Requirement already satisfied: h11<1,>=0.9.0 in /usr/local/python/3.10.13/lib/python3.10/site-packages (from wsproto>=0.14->trio-websocket~=0.9->selenium) (0.14.0)\n",
      "\n",
      "\u001b[1m[\u001b[0m\u001b[34;49mnotice\u001b[0m\u001b[1;39;49m]\u001b[0m\u001b[39;49m A new release of pip is available: \u001b[0m\u001b[31;49m23.3.1\u001b[0m\u001b[39;49m -> \u001b[0m\u001b[32;49m23.3.2\u001b[0m\n",
      "\u001b[1m[\u001b[0m\u001b[34;49mnotice\u001b[0m\u001b[1;39;49m]\u001b[0m\u001b[39;49m To update, run: \u001b[0m\u001b[32;49mpython -m pip install --upgrade pip\u001b[0m\n",
      "Requirement already satisfied: webdriver_manager in /usr/local/python/3.10.13/lib/python3.10/site-packages (4.0.1)\n",
      "Requirement already satisfied: requests in /home/codespace/.local/lib/python3.10/site-packages (from webdriver_manager) (2.31.0)\n",
      "Requirement already satisfied: python-dotenv in /usr/local/python/3.10.13/lib/python3.10/site-packages (from webdriver_manager) (1.0.0)\n",
      "Requirement already satisfied: packaging in /home/codespace/.local/lib/python3.10/site-packages (from webdriver_manager) (23.2)\n",
      "Requirement already satisfied: charset-normalizer<4,>=2 in /home/codespace/.local/lib/python3.10/site-packages (from requests->webdriver_manager) (3.3.2)\n",
      "Requirement already satisfied: idna<4,>=2.5 in /home/codespace/.local/lib/python3.10/site-packages (from requests->webdriver_manager) (3.6)\n",
      "Requirement already satisfied: urllib3<3,>=1.21.1 in /usr/local/python/3.10.13/lib/python3.10/site-packages (from requests->webdriver_manager) (2.0.7)\n",
      "Requirement already satisfied: certifi>=2017.4.17 in /home/codespace/.local/lib/python3.10/site-packages (from requests->webdriver_manager) (2023.11.17)\n",
      "\n",
      "\u001b[1m[\u001b[0m\u001b[34;49mnotice\u001b[0m\u001b[1;39;49m]\u001b[0m\u001b[39;49m A new release of pip is available: \u001b[0m\u001b[31;49m23.3.1\u001b[0m\u001b[39;49m -> \u001b[0m\u001b[32;49m23.3.2\u001b[0m\n",
      "\u001b[1m[\u001b[0m\u001b[34;49mnotice\u001b[0m\u001b[1;39;49m]\u001b[0m\u001b[39;49m To update, run: \u001b[0m\u001b[32;49mpython -m pip install --upgrade pip\u001b[0m\n"
     ]
    }
   ],
   "source": [
    "!sudo apt-get update\n",
    "!sudo apt install -y unzip xvfb libxi6 libgconf-2-4 -y\n",
    "!sudo apt install chromium-chromedriver -y\n",
    "!cp /usr/lib/chromium-browser/chromedriver /usr/bin\n",
    "\n",
    "!wget https://dl.google.com/linux/direct/google-chrome-stable_current_amd64.deb -O /tmp/chrome.deb\n",
    "!sudo apt-get update\n",
    "!sudo -E apt-get install -y /tmp/chrome.deb\n",
    "!pip install chromedriver-autoinstaller selenium\n",
    "\n",
    "import chromedriver_autoinstaller\n",
    "chromedriver_autoinstaller.install()\n",
    "\n",
    "\n",
    "!pip install webdriver_manager\n",
    "\n",
    "import selenium\n",
    "from webdriver_manager.chrome import ChromeDriverManager\n",
    "\n",
    "path_to_web_driver = ChromeDriverManager().install()\n",
    "\n",
    "\n",
    "import time\n",
    "\n",
    "from selenium import webdriver\n",
    "from selenium.webdriver.common.keys import Keys\n",
    "\n",
    "chrome_options = webdriver.ChromeOptions()\n",
    "chrome_options.add_argument('--headless')\n",
    "chrome_options.add_argument('--no-sandbox')\n",
    "chrome_options.add_argument('--disable-dev-shm-usage')\n",
    "#chrome_options.add_argument('--verbose') \n",
    "\n",
    "\n",
    "from selenium.webdriver.chrome.service import Service\n",
    "from bs4 import BeautifulSoup\n",
    "service = Service(executable_path=path_to_web_driver)\n",
    "\n",
    "browser = webdriver.Chrome(service=service,\n",
    "                           options=chrome_options)"
   ]
  },
  {
   "cell_type": "code",
   "execution_count": 2,
   "metadata": {},
   "outputs": [
    {
     "ename": "SessionNotCreatedException",
     "evalue": "Message: session not created: Chrome failed to start: exited normally.\n  (session not created: DevToolsActivePort file doesn't exist)\n  (The process started from chrome location /opt/google/chrome/chrome is no longer running, so ChromeDriver is assuming that Chrome has crashed.)\nStacktrace:\n#0 0x5637b7bc4f83 <unknown>\n#1 0x5637b787dcf7 <unknown>\n#2 0x5637b78b560e <unknown>\n#3 0x5637b78b226e <unknown>\n#4 0x5637b790280c <unknown>\n#5 0x5637b78f6e53 <unknown>\n#6 0x5637b78bedd4 <unknown>\n#7 0x5637b78c01de <unknown>\n#8 0x5637b7b89531 <unknown>\n#9 0x5637b7b8d455 <unknown>\n#10 0x5637b7b75f55 <unknown>\n#11 0x5637b7b8e0ef <unknown>\n#12 0x5637b7b5999f <unknown>\n#13 0x5637b7bb2008 <unknown>\n#14 0x5637b7bb21d7 <unknown>\n#15 0x5637b7bc4124 <unknown>\n#16 0x7f1d630ae609 start_thread\n",
     "output_type": "error",
     "traceback": [
      "\u001b[0;31m---------------------------------------------------------------------------\u001b[0m",
      "\u001b[0;31mSessionNotCreatedException\u001b[0m                Traceback (most recent call last)",
      "Cell \u001b[0;32mIn[2], line 30\u001b[0m\n\u001b[1;32m     26\u001b[0m     time\u001b[38;5;241m.\u001b[39msleep(\u001b[38;5;241m2\u001b[39m)  \u001b[38;5;66;03m# Petite pause pour éviter de surcharger le serveur\u001b[39;00m\n\u001b[1;32m     28\u001b[0m     driver\u001b[38;5;241m.\u001b[39mquit()\n\u001b[0;32m---> 30\u001b[0m \u001b[43mscrape_cnn_for_pizer\u001b[49m\u001b[43m(\u001b[49m\u001b[43m)\u001b[49m\n",
      "Cell \u001b[0;32mIn[2], line 10\u001b[0m, in \u001b[0;36mscrape_cnn_for_pizer\u001b[0;34m(start_year, end_year)\u001b[0m\n\u001b[1;32m      8\u001b[0m \u001b[38;5;28;01mdef\u001b[39;00m \u001b[38;5;21mscrape_cnn_for_pizer\u001b[39m(start_year\u001b[38;5;241m=\u001b[39m\u001b[38;5;241m2010\u001b[39m, end_year\u001b[38;5;241m=\u001b[39m\u001b[38;5;241m2023\u001b[39m):\n\u001b[1;32m      9\u001b[0m     \u001b[38;5;66;03m# Initialiser le navigateur Selenium\u001b[39;00m\n\u001b[0;32m---> 10\u001b[0m     driver \u001b[38;5;241m=\u001b[39m \u001b[43mwebdriver\u001b[49m\u001b[38;5;241;43m.\u001b[39;49m\u001b[43mChrome\u001b[49m\u001b[43m(\u001b[49m\u001b[43mservice\u001b[49m\u001b[38;5;241;43m=\u001b[39;49m\u001b[43mService\u001b[49m\u001b[43m(\u001b[49m\u001b[43mChromeDriverManager\u001b[49m\u001b[43m(\u001b[49m\u001b[43m)\u001b[49m\u001b[38;5;241;43m.\u001b[39;49m\u001b[43minstall\u001b[49m\u001b[43m(\u001b[49m\u001b[43m)\u001b[49m\u001b[43m)\u001b[49m\u001b[43m)\u001b[49m\n\u001b[1;32m     13\u001b[0m     \u001b[38;5;66;03m# Construire l'URL de recherche\u001b[39;00m\n\u001b[1;32m     14\u001b[0m     search_url \u001b[38;5;241m=\u001b[39m \u001b[38;5;124mf\u001b[39m\u001b[38;5;124m\"\u001b[39m\u001b[38;5;124mhttps://edition.cnn.com/search?q=Pfizer+environment\u001b[39m\u001b[38;5;124m\"\u001b[39m\n",
      "File \u001b[0;32m~/.python/current/lib/python3.10/site-packages/selenium/webdriver/chrome/webdriver.py:45\u001b[0m, in \u001b[0;36mWebDriver.__init__\u001b[0;34m(self, options, service, keep_alive)\u001b[0m\n\u001b[1;32m     42\u001b[0m service \u001b[38;5;241m=\u001b[39m service \u001b[38;5;28;01mif\u001b[39;00m service \u001b[38;5;28;01melse\u001b[39;00m Service()\n\u001b[1;32m     43\u001b[0m options \u001b[38;5;241m=\u001b[39m options \u001b[38;5;28;01mif\u001b[39;00m options \u001b[38;5;28;01melse\u001b[39;00m Options()\n\u001b[0;32m---> 45\u001b[0m \u001b[38;5;28;43msuper\u001b[39;49m\u001b[43m(\u001b[49m\u001b[43m)\u001b[49m\u001b[38;5;241;43m.\u001b[39;49m\u001b[38;5;21;43m__init__\u001b[39;49m\u001b[43m(\u001b[49m\n\u001b[1;32m     46\u001b[0m \u001b[43m    \u001b[49m\u001b[43mbrowser_name\u001b[49m\u001b[38;5;241;43m=\u001b[39;49m\u001b[43mDesiredCapabilities\u001b[49m\u001b[38;5;241;43m.\u001b[39;49m\u001b[43mCHROME\u001b[49m\u001b[43m[\u001b[49m\u001b[38;5;124;43m\"\u001b[39;49m\u001b[38;5;124;43mbrowserName\u001b[39;49m\u001b[38;5;124;43m\"\u001b[39;49m\u001b[43m]\u001b[49m\u001b[43m,\u001b[49m\n\u001b[1;32m     47\u001b[0m \u001b[43m    \u001b[49m\u001b[43mvendor_prefix\u001b[49m\u001b[38;5;241;43m=\u001b[39;49m\u001b[38;5;124;43m\"\u001b[39;49m\u001b[38;5;124;43mgoog\u001b[39;49m\u001b[38;5;124;43m\"\u001b[39;49m\u001b[43m,\u001b[49m\n\u001b[1;32m     48\u001b[0m \u001b[43m    \u001b[49m\u001b[43moptions\u001b[49m\u001b[38;5;241;43m=\u001b[39;49m\u001b[43moptions\u001b[49m\u001b[43m,\u001b[49m\n\u001b[1;32m     49\u001b[0m \u001b[43m    \u001b[49m\u001b[43mservice\u001b[49m\u001b[38;5;241;43m=\u001b[39;49m\u001b[43mservice\u001b[49m\u001b[43m,\u001b[49m\n\u001b[1;32m     50\u001b[0m \u001b[43m    \u001b[49m\u001b[43mkeep_alive\u001b[49m\u001b[38;5;241;43m=\u001b[39;49m\u001b[43mkeep_alive\u001b[49m\u001b[43m,\u001b[49m\n\u001b[1;32m     51\u001b[0m \u001b[43m\u001b[49m\u001b[43m)\u001b[49m\n",
      "File \u001b[0;32m~/.python/current/lib/python3.10/site-packages/selenium/webdriver/chromium/webdriver.py:61\u001b[0m, in \u001b[0;36mChromiumDriver.__init__\u001b[0;34m(self, browser_name, vendor_prefix, options, service, keep_alive)\u001b[0m\n\u001b[1;32m     52\u001b[0m executor \u001b[38;5;241m=\u001b[39m ChromiumRemoteConnection(\n\u001b[1;32m     53\u001b[0m     remote_server_addr\u001b[38;5;241m=\u001b[39m\u001b[38;5;28mself\u001b[39m\u001b[38;5;241m.\u001b[39mservice\u001b[38;5;241m.\u001b[39mservice_url,\n\u001b[1;32m     54\u001b[0m     browser_name\u001b[38;5;241m=\u001b[39mbrowser_name,\n\u001b[0;32m   (...)\u001b[0m\n\u001b[1;32m     57\u001b[0m     ignore_proxy\u001b[38;5;241m=\u001b[39moptions\u001b[38;5;241m.\u001b[39m_ignore_local_proxy,\n\u001b[1;32m     58\u001b[0m )\n\u001b[1;32m     60\u001b[0m \u001b[38;5;28;01mtry\u001b[39;00m:\n\u001b[0;32m---> 61\u001b[0m     \u001b[38;5;28;43msuper\u001b[39;49m\u001b[43m(\u001b[49m\u001b[43m)\u001b[49m\u001b[38;5;241;43m.\u001b[39;49m\u001b[38;5;21;43m__init__\u001b[39;49m\u001b[43m(\u001b[49m\u001b[43mcommand_executor\u001b[49m\u001b[38;5;241;43m=\u001b[39;49m\u001b[43mexecutor\u001b[49m\u001b[43m,\u001b[49m\u001b[43m \u001b[49m\u001b[43moptions\u001b[49m\u001b[38;5;241;43m=\u001b[39;49m\u001b[43moptions\u001b[49m\u001b[43m)\u001b[49m\n\u001b[1;32m     62\u001b[0m \u001b[38;5;28;01mexcept\u001b[39;00m \u001b[38;5;167;01mException\u001b[39;00m:\n\u001b[1;32m     63\u001b[0m     \u001b[38;5;28mself\u001b[39m\u001b[38;5;241m.\u001b[39mquit()\n",
      "File \u001b[0;32m~/.python/current/lib/python3.10/site-packages/selenium/webdriver/remote/webdriver.py:209\u001b[0m, in \u001b[0;36mWebDriver.__init__\u001b[0;34m(self, command_executor, keep_alive, file_detector, options)\u001b[0m\n\u001b[1;32m    207\u001b[0m \u001b[38;5;28mself\u001b[39m\u001b[38;5;241m.\u001b[39m_authenticator_id \u001b[38;5;241m=\u001b[39m \u001b[38;5;28;01mNone\u001b[39;00m\n\u001b[1;32m    208\u001b[0m \u001b[38;5;28mself\u001b[39m\u001b[38;5;241m.\u001b[39mstart_client()\n\u001b[0;32m--> 209\u001b[0m \u001b[38;5;28;43mself\u001b[39;49m\u001b[38;5;241;43m.\u001b[39;49m\u001b[43mstart_session\u001b[49m\u001b[43m(\u001b[49m\u001b[43mcapabilities\u001b[49m\u001b[43m)\u001b[49m\n",
      "File \u001b[0;32m~/.python/current/lib/python3.10/site-packages/selenium/webdriver/remote/webdriver.py:293\u001b[0m, in \u001b[0;36mWebDriver.start_session\u001b[0;34m(self, capabilities)\u001b[0m\n\u001b[1;32m    286\u001b[0m \u001b[38;5;250m\u001b[39m\u001b[38;5;124;03m\"\"\"Creates a new session with the desired capabilities.\u001b[39;00m\n\u001b[1;32m    287\u001b[0m \n\u001b[1;32m    288\u001b[0m \u001b[38;5;124;03m:Args:\u001b[39;00m\n\u001b[1;32m    289\u001b[0m \u001b[38;5;124;03m - capabilities - a capabilities dict to start the session with.\u001b[39;00m\n\u001b[1;32m    290\u001b[0m \u001b[38;5;124;03m\"\"\"\u001b[39;00m\n\u001b[1;32m    292\u001b[0m caps \u001b[38;5;241m=\u001b[39m _create_caps(capabilities)\n\u001b[0;32m--> 293\u001b[0m response \u001b[38;5;241m=\u001b[39m \u001b[38;5;28;43mself\u001b[39;49m\u001b[38;5;241;43m.\u001b[39;49m\u001b[43mexecute\u001b[49m\u001b[43m(\u001b[49m\u001b[43mCommand\u001b[49m\u001b[38;5;241;43m.\u001b[39;49m\u001b[43mNEW_SESSION\u001b[49m\u001b[43m,\u001b[49m\u001b[43m \u001b[49m\u001b[43mcaps\u001b[49m\u001b[43m)\u001b[49m[\u001b[38;5;124m\"\u001b[39m\u001b[38;5;124mvalue\u001b[39m\u001b[38;5;124m\"\u001b[39m]\n\u001b[1;32m    294\u001b[0m \u001b[38;5;28mself\u001b[39m\u001b[38;5;241m.\u001b[39msession_id \u001b[38;5;241m=\u001b[39m response\u001b[38;5;241m.\u001b[39mget(\u001b[38;5;124m\"\u001b[39m\u001b[38;5;124msessionId\u001b[39m\u001b[38;5;124m\"\u001b[39m)\n\u001b[1;32m    295\u001b[0m \u001b[38;5;28mself\u001b[39m\u001b[38;5;241m.\u001b[39mcaps \u001b[38;5;241m=\u001b[39m response\u001b[38;5;241m.\u001b[39mget(\u001b[38;5;124m\"\u001b[39m\u001b[38;5;124mcapabilities\u001b[39m\u001b[38;5;124m\"\u001b[39m)\n",
      "File \u001b[0;32m~/.python/current/lib/python3.10/site-packages/selenium/webdriver/remote/webdriver.py:348\u001b[0m, in \u001b[0;36mWebDriver.execute\u001b[0;34m(self, driver_command, params)\u001b[0m\n\u001b[1;32m    346\u001b[0m response \u001b[38;5;241m=\u001b[39m \u001b[38;5;28mself\u001b[39m\u001b[38;5;241m.\u001b[39mcommand_executor\u001b[38;5;241m.\u001b[39mexecute(driver_command, params)\n\u001b[1;32m    347\u001b[0m \u001b[38;5;28;01mif\u001b[39;00m response:\n\u001b[0;32m--> 348\u001b[0m     \u001b[38;5;28;43mself\u001b[39;49m\u001b[38;5;241;43m.\u001b[39;49m\u001b[43merror_handler\u001b[49m\u001b[38;5;241;43m.\u001b[39;49m\u001b[43mcheck_response\u001b[49m\u001b[43m(\u001b[49m\u001b[43mresponse\u001b[49m\u001b[43m)\u001b[49m\n\u001b[1;32m    349\u001b[0m     response[\u001b[38;5;124m\"\u001b[39m\u001b[38;5;124mvalue\u001b[39m\u001b[38;5;124m\"\u001b[39m] \u001b[38;5;241m=\u001b[39m \u001b[38;5;28mself\u001b[39m\u001b[38;5;241m.\u001b[39m_unwrap_value(response\u001b[38;5;241m.\u001b[39mget(\u001b[38;5;124m\"\u001b[39m\u001b[38;5;124mvalue\u001b[39m\u001b[38;5;124m\"\u001b[39m, \u001b[38;5;28;01mNone\u001b[39;00m))\n\u001b[1;32m    350\u001b[0m     \u001b[38;5;28;01mreturn\u001b[39;00m response\n",
      "File \u001b[0;32m~/.python/current/lib/python3.10/site-packages/selenium/webdriver/remote/errorhandler.py:229\u001b[0m, in \u001b[0;36mErrorHandler.check_response\u001b[0;34m(self, response)\u001b[0m\n\u001b[1;32m    227\u001b[0m         alert_text \u001b[38;5;241m=\u001b[39m value[\u001b[38;5;124m\"\u001b[39m\u001b[38;5;124malert\u001b[39m\u001b[38;5;124m\"\u001b[39m]\u001b[38;5;241m.\u001b[39mget(\u001b[38;5;124m\"\u001b[39m\u001b[38;5;124mtext\u001b[39m\u001b[38;5;124m\"\u001b[39m)\n\u001b[1;32m    228\u001b[0m     \u001b[38;5;28;01mraise\u001b[39;00m exception_class(message, screen, stacktrace, alert_text)  \u001b[38;5;66;03m# type: ignore[call-arg]  # mypy is not smart enough here\u001b[39;00m\n\u001b[0;32m--> 229\u001b[0m \u001b[38;5;28;01mraise\u001b[39;00m exception_class(message, screen, stacktrace)\n",
      "\u001b[0;31mSessionNotCreatedException\u001b[0m: Message: session not created: Chrome failed to start: exited normally.\n  (session not created: DevToolsActivePort file doesn't exist)\n  (The process started from chrome location /opt/google/chrome/chrome is no longer running, so ChromeDriver is assuming that Chrome has crashed.)\nStacktrace:\n#0 0x5637b7bc4f83 <unknown>\n#1 0x5637b787dcf7 <unknown>\n#2 0x5637b78b560e <unknown>\n#3 0x5637b78b226e <unknown>\n#4 0x5637b790280c <unknown>\n#5 0x5637b78f6e53 <unknown>\n#6 0x5637b78bedd4 <unknown>\n#7 0x5637b78c01de <unknown>\n#8 0x5637b7b89531 <unknown>\n#9 0x5637b7b8d455 <unknown>\n#10 0x5637b7b75f55 <unknown>\n#11 0x5637b7b8e0ef <unknown>\n#12 0x5637b7b5999f <unknown>\n#13 0x5637b7bb2008 <unknown>\n#14 0x5637b7bb21d7 <unknown>\n#15 0x5637b7bc4124 <unknown>\n#16 0x7f1d630ae609 start_thread\n"
     ]
    }
   ],
   "source": [
    "from selenium import webdriver\n",
    "from selenium.webdriver.common.keys import Keys\n",
    "from selenium.webdriver.common.by import By\n",
    "from selenium.webdriver.chrome.service import Service\n",
    "from webdriver_manager.chrome import ChromeDriverManager\n",
    "import time\n",
    "\n",
    "def scrape_cnn_for_pizer(start_year=2010, end_year=2023):\n",
    "    # Initialiser le navigateur Selenium\n",
    "    driver = webdriver.Chrome(service=Service(ChromeDriverManager().install()))\n",
    "\n",
    " \n",
    "    # Construire l'URL de recherche\n",
    "    search_url = f\"https://edition.cnn.com/search?q=Pfizer+environment\"\n",
    "    driver.get(search_url)\n",
    "\n",
    "    time.sleep(5)  # Attendre que la page charge\n",
    "\n",
    "    # Récupérer les titres des articles (ajuster le sélecteur en fonction de la structure de la page)\n",
    "    articles = driver.find_elements(By.CSS_SELECTOR, 'h3.article-title')\n",
    "\n",
    "    for article in articles:\n",
    "        title = article.text\n",
    "        print(f'{title}')\n",
    "\n",
    "    time.sleep(2)  # Petite pause pour éviter de surcharger le serveur\n",
    "\n",
    "    driver.quit()\n",
    "\n",
    "scrape_cnn_for_pizer()\n"
   ]
  }
 ],
 "metadata": {
  "kernelspec": {
   "display_name": "Python 3",
   "language": "python",
   "name": "python3"
  },
  "language_info": {
   "codemirror_mode": {
    "name": "ipython",
    "version": 3
   },
   "file_extension": ".py",
   "mimetype": "text/x-python",
   "name": "python",
   "nbconvert_exporter": "python",
   "pygments_lexer": "ipython3",
   "version": "3.10.13"
  }
 },
 "nbformat": 4,
 "nbformat_minor": 2
}
