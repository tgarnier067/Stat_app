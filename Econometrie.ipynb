{
 "cells": [
  {
   "cell_type": "code",
   "execution_count": 2,
   "metadata": {},
   "outputs": [
    {
     "name": "stdout",
     "output_type": "stream",
     "text": [
      "Requirement already satisfied: linearmodels in /usr/local/python/3.10.13/lib/python3.10/site-packages (5.4)\n",
      "Requirement already satisfied: numpy>=1.22.0 in /home/codespace/.local/lib/python3.10/site-packages (from linearmodels) (1.26.4)\n",
      "Requirement already satisfied: pandas>=1.3.0 in /home/codespace/.local/lib/python3.10/site-packages (from linearmodels) (2.2.1)\n",
      "Requirement already satisfied: scipy>=1.5.0 in /home/codespace/.local/lib/python3.10/site-packages (from linearmodels) (1.12.0)\n",
      "Requirement already satisfied: statsmodels>=0.12.0 in /usr/local/python/3.10.13/lib/python3.10/site-packages (from linearmodels) (0.14.1)\n",
      "Requirement already satisfied: mypy-extensions>=0.4 in /usr/local/python/3.10.13/lib/python3.10/site-packages (from linearmodels) (1.0.0)\n",
      "Requirement already satisfied: Cython>=0.29.37 in /usr/local/python/3.10.13/lib/python3.10/site-packages (from linearmodels) (3.0.9)\n",
      "Requirement already satisfied: pyhdfe>=0.1 in /usr/local/python/3.10.13/lib/python3.10/site-packages (from linearmodels) (0.2.0)\n",
      "Requirement already satisfied: formulaic>=0.6.5 in /usr/local/python/3.10.13/lib/python3.10/site-packages (from linearmodels) (1.0.1)\n",
      "Requirement already satisfied: setuptools-scm<9.0.0,>=8.0.0 in /usr/local/python/3.10.13/lib/python3.10/site-packages (from setuptools-scm[toml]<9.0.0,>=8.0.0->linearmodels) (8.0.4)\n",
      "Requirement already satisfied: interface-meta>=1.2.0 in /usr/local/python/3.10.13/lib/python3.10/site-packages (from formulaic>=0.6.5->linearmodels) (1.3.0)\n",
      "Requirement already satisfied: typing-extensions>=4.2.0 in /home/codespace/.local/lib/python3.10/site-packages (from formulaic>=0.6.5->linearmodels) (4.10.0)\n",
      "Requirement already satisfied: wrapt>=1.0 in /usr/local/python/3.10.13/lib/python3.10/site-packages (from formulaic>=0.6.5->linearmodels) (1.16.0)\n",
      "Requirement already satisfied: python-dateutil>=2.8.2 in /home/codespace/.local/lib/python3.10/site-packages (from pandas>=1.3.0->linearmodels) (2.9.0.post0)\n",
      "Requirement already satisfied: pytz>=2020.1 in /home/codespace/.local/lib/python3.10/site-packages (from pandas>=1.3.0->linearmodels) (2024.1)\n",
      "Requirement already satisfied: tzdata>=2022.7 in /home/codespace/.local/lib/python3.10/site-packages (from pandas>=1.3.0->linearmodels) (2024.1)\n",
      "Requirement already satisfied: packaging>=20 in /home/codespace/.local/lib/python3.10/site-packages (from setuptools-scm<9.0.0,>=8.0.0->setuptools-scm[toml]<9.0.0,>=8.0.0->linearmodels) (23.2)\n",
      "Requirement already satisfied: setuptools in /usr/local/python/3.10.13/lib/python3.10/site-packages (from setuptools-scm<9.0.0,>=8.0.0->setuptools-scm[toml]<9.0.0,>=8.0.0->linearmodels) (68.2.2)\n",
      "Requirement already satisfied: tomli>=1 in /home/codespace/.local/lib/python3.10/site-packages (from setuptools-scm<9.0.0,>=8.0.0->setuptools-scm[toml]<9.0.0,>=8.0.0->linearmodels) (2.0.1)\n",
      "Requirement already satisfied: patsy>=0.5.4 in /usr/local/python/3.10.13/lib/python3.10/site-packages (from statsmodels>=0.12.0->linearmodels) (0.5.6)\n",
      "Requirement already satisfied: six in /home/codespace/.local/lib/python3.10/site-packages (from patsy>=0.5.4->statsmodels>=0.12.0->linearmodels) (1.16.0)\n"
     ]
    }
   ],
   "source": [
    "!pip install linearmodels\n",
    "import pandas as pd\n",
    "import numpy as np\n",
    "import linearmodels\n",
    "from linearmodels.iv import IV2SLS"
   ]
  },
  {
   "cell_type": "code",
   "execution_count": 4,
   "metadata": {},
   "outputs": [
    {
     "name": "stdout",
     "output_type": "stream",
     "text": [
      "Selected date: 2010-09\n"
     ]
    },
    {
     "data": {
      "text/plain": [
       "Timestamp('2010-09-01 00:00:00')"
      ]
     },
     "execution_count": 4,
     "metadata": {},
     "output_type": "execute_result"
    }
   ],
   "source": [
    "def get_user_date(start_date, end_date):\n",
    "    # Prompt the user for a date\n",
    "    user_date_str = input(f\"Enter a date between {start_date} and {end_date} (format YYYY-MM): \")\n",
    "    \n",
    "    # Convert user input to a pandas Timestamp\n",
    "    try:\n",
    "        user_date = pd.to_datetime(user_date_str, format='%Y-%m')\n",
    "        start_date = pd.to_datetime(start_date, format='%Y-%m')\n",
    "        end_date = pd.to_datetime(end_date, format='%Y-%m')\n",
    "\n",
    "        # Check if the date is within the range\n",
    "        if start_date <= user_date <= end_date:\n",
    "            print(f\"Selected date: {user_date.strftime('%Y-%m')}\")\n",
    "            return user_date\n",
    "        else:\n",
    "            print(\"Date is out of range. Please try again.\")\n",
    "            return None\n",
    "    except ValueError:\n",
    "        print(\"Invalid date format. Please try again.\")\n",
    "        return None\n",
    "\n",
    "# Example usage\n",
    "get_user_date(\"2002-01\", \"2023-04\")\n"
   ]
  },
  {
   "cell_type": "code",
   "execution_count": 9,
   "metadata": {},
   "outputs": [
    {
     "name": "stderr",
     "output_type": "stream",
     "text": [
      "/tmp/ipykernel_6293/1690928017.py:2: DtypeWarning: Columns (1,2,3,4,5,6) have mixed types. Specify dtype option on import or set low_memory=False.\n",
      "  esg_data = pd.read_csv('ESG_E.csv')\n"
     ]
    },
    {
     "name": "stdout",
     "output_type": "stream",
     "text": [
      "Selected date: 2010-01\n",
      "2009-12\n"
     ]
    }
   ],
   "source": [
    "# On prend le dataset esge avec toutes les dates\n",
    "esg_data = pd.read_csv('ESG_E.csv')\n",
    "esg_data.head()\n",
    "\n",
    "# On prend le score de comm environnemental que l'on a calculé\n",
    "env_comm_score = pd.read_csv('env_comm_score.csv')\n",
    "\n",
    "# On laisse l'utilisateur choisir une date\n",
    "date_debut=\"2002-01\"\n",
    "date_fin=\"2023-04\"\n",
    "t = get_user_date(date_debut,date_fin)\n",
    "t = pd.to_datetime(t, format='%Y-%m')\n",
    "t_minus_1 = (t - pd.DateOffset(months=1)).strftime('%Y-%m')\n",
    "print(t_minus_1)\n",
    "\n",
    "# On recupère les scores des etp aux dates t et t-1\n",
    "col_index = esg_data.columns.get_loc(t)\n",
    "esge_t = esg_data.iloc[:, col_index]\n",
    "col_index = esg_data.columns.get_loc(t_minus_1)\n",
    "esge_t_minus_1 = esg_data.iloc[:, col_index]"
   ]
  },
  {
   "cell_type": "code",
   "execution_count": 6,
   "metadata": {},
   "outputs": [
    {
     "name": "stdout",
     "output_type": "stream",
     "text": [
      "Requirement already satisfied: linearmodels in /usr/local/python/3.10.13/lib/python3.10/site-packages (5.4)\n",
      "Requirement already satisfied: numpy>=1.22.0 in /home/codespace/.local/lib/python3.10/site-packages (from linearmodels) (1.26.4)\n",
      "Requirement already satisfied: pandas>=1.3.0 in /home/codespace/.local/lib/python3.10/site-packages (from linearmodels) (2.2.1)\n",
      "Requirement already satisfied: scipy>=1.5.0 in /home/codespace/.local/lib/python3.10/site-packages (from linearmodels) (1.12.0)\n",
      "Requirement already satisfied: statsmodels>=0.12.0 in /usr/local/python/3.10.13/lib/python3.10/site-packages (from linearmodels) (0.14.1)\n",
      "Requirement already satisfied: mypy-extensions>=0.4 in /usr/local/python/3.10.13/lib/python3.10/site-packages (from linearmodels) (1.0.0)\n",
      "Requirement already satisfied: Cython>=0.29.37 in /usr/local/python/3.10.13/lib/python3.10/site-packages (from linearmodels) (3.0.9)\n",
      "Requirement already satisfied: pyhdfe>=0.1 in /usr/local/python/3.10.13/lib/python3.10/site-packages (from linearmodels) (0.2.0)\n",
      "Requirement already satisfied: formulaic>=0.6.5 in /usr/local/python/3.10.13/lib/python3.10/site-packages (from linearmodels) (1.0.1)\n",
      "Requirement already satisfied: setuptools-scm<9.0.0,>=8.0.0 in /usr/local/python/3.10.13/lib/python3.10/site-packages (from setuptools-scm[toml]<9.0.0,>=8.0.0->linearmodels) (8.0.4)\n",
      "Requirement already satisfied: interface-meta>=1.2.0 in /usr/local/python/3.10.13/lib/python3.10/site-packages (from formulaic>=0.6.5->linearmodels) (1.3.0)\n",
      "Requirement already satisfied: typing-extensions>=4.2.0 in /home/codespace/.local/lib/python3.10/site-packages (from formulaic>=0.6.5->linearmodels) (4.10.0)\n",
      "Requirement already satisfied: wrapt>=1.0 in /usr/local/python/3.10.13/lib/python3.10/site-packages (from formulaic>=0.6.5->linearmodels) (1.16.0)\n",
      "Requirement already satisfied: python-dateutil>=2.8.2 in /home/codespace/.local/lib/python3.10/site-packages (from pandas>=1.3.0->linearmodels) (2.9.0.post0)\n",
      "Requirement already satisfied: pytz>=2020.1 in /home/codespace/.local/lib/python3.10/site-packages (from pandas>=1.3.0->linearmodels) (2024.1)\n",
      "Requirement already satisfied: tzdata>=2022.7 in /home/codespace/.local/lib/python3.10/site-packages (from pandas>=1.3.0->linearmodels) (2024.1)\n",
      "Requirement already satisfied: packaging>=20 in /home/codespace/.local/lib/python3.10/site-packages (from setuptools-scm<9.0.0,>=8.0.0->setuptools-scm[toml]<9.0.0,>=8.0.0->linearmodels) (23.2)\n",
      "Requirement already satisfied: setuptools in /usr/local/python/3.10.13/lib/python3.10/site-packages (from setuptools-scm<9.0.0,>=8.0.0->setuptools-scm[toml]<9.0.0,>=8.0.0->linearmodels) (68.2.2)\n",
      "Requirement already satisfied: tomli>=1 in /home/codespace/.local/lib/python3.10/site-packages (from setuptools-scm<9.0.0,>=8.0.0->setuptools-scm[toml]<9.0.0,>=8.0.0->linearmodels) (2.0.1)\n",
      "Requirement already satisfied: patsy>=0.5.4 in /usr/local/python/3.10.13/lib/python3.10/site-packages (from statsmodels>=0.12.0->linearmodels) (0.5.6)\n",
      "Requirement already satisfied: six in /home/codespace/.local/lib/python3.10/site-packages (from patsy>=0.5.4->statsmodels>=0.12.0->linearmodels) (1.16.0)\n"
     ]
    },
    {
     "name": "stderr",
     "output_type": "stream",
     "text": [
      "/tmp/ipykernel_4700/2187619719.py:10: DtypeWarning: Columns (1,2,3,4,5,6) have mixed types. Specify dtype option on import or set low_memory=False.\n",
      "  esg_data = pd.read_csv('ESG_E.csv')\n"
     ]
    },
    {
     "name": "stdout",
     "output_type": "stream",
     "text": [
      "   env_comm_score       esge  esge_past  esge_peer\n",
      "0       20.671851  71.939325  70.614074  95.404808\n",
      "1       84.026651   9.414993  32.815006  68.663419\n",
      "2       33.754325  88.121433  18.008638  99.660733\n",
      "3       80.854388  79.798710  85.048132  79.222246\n",
      "4       79.544386  82.632331  95.098892   1.905994\n"
     ]
    },
    {
     "ename": "KeyError",
     "evalue": "\"None of [Index(['const'], dtype='object')] are in the [columns]\"",
     "output_type": "error",
     "traceback": [
      "\u001b[0;31m---------------------------------------------------------------------------\u001b[0m",
      "\u001b[0;31mKeyError\u001b[0m                                  Traceback (most recent call last)",
      "Cell \u001b[0;32mIn[6], line 33\u001b[0m\n\u001b[1;32m     26\u001b[0m \u001b[38;5;66;03m# Assuming df is your DataFrame containing the data\u001b[39;00m\n\u001b[1;32m     27\u001b[0m \u001b[38;5;66;03m# and it has columns 'env_comm_score' for environmental communication score,\u001b[39;00m\n\u001b[1;32m     28\u001b[0m \u001b[38;5;66;03m# 'esge' for current environmental score, 'esge_past' for past environmental score,\u001b[39;00m\n\u001b[1;32m     29\u001b[0m \u001b[38;5;66;03m# and 'esge_peer' for peer environmental score in the same sector.\u001b[39;00m\n\u001b[1;32m     30\u001b[0m \n\u001b[1;32m     31\u001b[0m \u001b[38;5;66;03m# Define your variables\u001b[39;00m\n\u001b[1;32m     32\u001b[0m dependent \u001b[38;5;241m=\u001b[39m df[\u001b[38;5;124m'\u001b[39m\u001b[38;5;124menv_comm_score\u001b[39m\u001b[38;5;124m'\u001b[39m]\n\u001b[0;32m---> 33\u001b[0m independent \u001b[38;5;241m=\u001b[39m \u001b[43mdf\u001b[49m\u001b[43m[\u001b[49m\u001b[43m[\u001b[49m\u001b[38;5;124;43m'\u001b[39;49m\u001b[38;5;124;43mconst\u001b[39;49m\u001b[38;5;124;43m'\u001b[39;49m\u001b[43m]\u001b[49m\u001b[43m]\u001b[49m  \u001b[38;5;66;03m# Assuming you've added a constant term to your DataFrame\u001b[39;00m\n\u001b[1;32m     34\u001b[0m instrument \u001b[38;5;241m=\u001b[39m df[\u001b[38;5;124m'\u001b[39m\u001b[38;5;124mesge_past\u001b[39m\u001b[38;5;124m'\u001b[39m]  \u001b[38;5;66;03m# Instrumenting esge with its past value\u001b[39;00m\n\u001b[1;32m     35\u001b[0m endogenous \u001b[38;5;241m=\u001b[39m df[\u001b[38;5;124m'\u001b[39m\u001b[38;5;124mesge\u001b[39m\u001b[38;5;124m'\u001b[39m]  \u001b[38;5;66;03m# The variable you believe is endogenous\u001b[39;00m\n",
      "File \u001b[0;32m~/.local/lib/python3.10/site-packages/pandas/core/frame.py:4096\u001b[0m, in \u001b[0;36mDataFrame.__getitem__\u001b[0;34m(self, key)\u001b[0m\n\u001b[1;32m   4094\u001b[0m     \u001b[38;5;28;01mif\u001b[39;00m is_iterator(key):\n\u001b[1;32m   4095\u001b[0m         key \u001b[38;5;241m=\u001b[39m \u001b[38;5;28mlist\u001b[39m(key)\n\u001b[0;32m-> 4096\u001b[0m     indexer \u001b[38;5;241m=\u001b[39m \u001b[38;5;28;43mself\u001b[39;49m\u001b[38;5;241;43m.\u001b[39;49m\u001b[43mcolumns\u001b[49m\u001b[38;5;241;43m.\u001b[39;49m\u001b[43m_get_indexer_strict\u001b[49m\u001b[43m(\u001b[49m\u001b[43mkey\u001b[49m\u001b[43m,\u001b[49m\u001b[43m \u001b[49m\u001b[38;5;124;43m\"\u001b[39;49m\u001b[38;5;124;43mcolumns\u001b[39;49m\u001b[38;5;124;43m\"\u001b[39;49m\u001b[43m)\u001b[49m[\u001b[38;5;241m1\u001b[39m]\n\u001b[1;32m   4098\u001b[0m \u001b[38;5;66;03m# take() does not accept boolean indexers\u001b[39;00m\n\u001b[1;32m   4099\u001b[0m \u001b[38;5;28;01mif\u001b[39;00m \u001b[38;5;28mgetattr\u001b[39m(indexer, \u001b[38;5;124m\"\u001b[39m\u001b[38;5;124mdtype\u001b[39m\u001b[38;5;124m\"\u001b[39m, \u001b[38;5;28;01mNone\u001b[39;00m) \u001b[38;5;241m==\u001b[39m \u001b[38;5;28mbool\u001b[39m:\n",
      "File \u001b[0;32m~/.local/lib/python3.10/site-packages/pandas/core/indexes/base.py:6200\u001b[0m, in \u001b[0;36mIndex._get_indexer_strict\u001b[0;34m(self, key, axis_name)\u001b[0m\n\u001b[1;32m   6197\u001b[0m \u001b[38;5;28;01melse\u001b[39;00m:\n\u001b[1;32m   6198\u001b[0m     keyarr, indexer, new_indexer \u001b[38;5;241m=\u001b[39m \u001b[38;5;28mself\u001b[39m\u001b[38;5;241m.\u001b[39m_reindex_non_unique(keyarr)\n\u001b[0;32m-> 6200\u001b[0m \u001b[38;5;28;43mself\u001b[39;49m\u001b[38;5;241;43m.\u001b[39;49m\u001b[43m_raise_if_missing\u001b[49m\u001b[43m(\u001b[49m\u001b[43mkeyarr\u001b[49m\u001b[43m,\u001b[49m\u001b[43m \u001b[49m\u001b[43mindexer\u001b[49m\u001b[43m,\u001b[49m\u001b[43m \u001b[49m\u001b[43maxis_name\u001b[49m\u001b[43m)\u001b[49m\n\u001b[1;32m   6202\u001b[0m keyarr \u001b[38;5;241m=\u001b[39m \u001b[38;5;28mself\u001b[39m\u001b[38;5;241m.\u001b[39mtake(indexer)\n\u001b[1;32m   6203\u001b[0m \u001b[38;5;28;01mif\u001b[39;00m \u001b[38;5;28misinstance\u001b[39m(key, Index):\n\u001b[1;32m   6204\u001b[0m     \u001b[38;5;66;03m# GH 42790 - Preserve name from an Index\u001b[39;00m\n",
      "File \u001b[0;32m~/.local/lib/python3.10/site-packages/pandas/core/indexes/base.py:6249\u001b[0m, in \u001b[0;36mIndex._raise_if_missing\u001b[0;34m(self, key, indexer, axis_name)\u001b[0m\n\u001b[1;32m   6247\u001b[0m \u001b[38;5;28;01mif\u001b[39;00m nmissing:\n\u001b[1;32m   6248\u001b[0m     \u001b[38;5;28;01mif\u001b[39;00m nmissing \u001b[38;5;241m==\u001b[39m \u001b[38;5;28mlen\u001b[39m(indexer):\n\u001b[0;32m-> 6249\u001b[0m         \u001b[38;5;28;01mraise\u001b[39;00m \u001b[38;5;167;01mKeyError\u001b[39;00m(\u001b[38;5;124mf\u001b[39m\u001b[38;5;124m\"\u001b[39m\u001b[38;5;124mNone of [\u001b[39m\u001b[38;5;132;01m{\u001b[39;00mkey\u001b[38;5;132;01m}\u001b[39;00m\u001b[38;5;124m] are in the [\u001b[39m\u001b[38;5;132;01m{\u001b[39;00maxis_name\u001b[38;5;132;01m}\u001b[39;00m\u001b[38;5;124m]\u001b[39m\u001b[38;5;124m\"\u001b[39m)\n\u001b[1;32m   6251\u001b[0m     not_found \u001b[38;5;241m=\u001b[39m \u001b[38;5;28mlist\u001b[39m(ensure_index(key)[missing_mask\u001b[38;5;241m.\u001b[39mnonzero()[\u001b[38;5;241m0\u001b[39m]]\u001b[38;5;241m.\u001b[39munique())\n\u001b[1;32m   6252\u001b[0m     \u001b[38;5;28;01mraise\u001b[39;00m \u001b[38;5;167;01mKeyError\u001b[39;00m(\u001b[38;5;124mf\u001b[39m\u001b[38;5;124m\"\u001b[39m\u001b[38;5;132;01m{\u001b[39;00mnot_found\u001b[38;5;132;01m}\u001b[39;00m\u001b[38;5;124m not in index\u001b[39m\u001b[38;5;124m\"\u001b[39m)\n",
      "\u001b[0;31mKeyError\u001b[0m: \"None of [Index(['const'], dtype='object')] are in the [columns]\""
     ]
    }
   ],
   "source": [
    "data = {\n",
    "    'env_comm_score': env_comm_score, \n",
    "    'esge': esge_t\n",
    "    'esge_past': esge_t_minus_1\n",
    "    'esge_peer': np.random.uniform(0, 100, 100)  # 100 peer environmental scores in the same sector\n",
    "}\n",
    "\n",
    "df = pd.DataFrame(data)\n",
    "\n",
    "# Show the first few rows of the DataFrame\n",
    "print(df.head())\n",
    "\n",
    "# Define your variables\n",
    "dependent = df['env_comm_score']\n",
    "independent = df[['const']]  # Assuming you've added a constant term to your DataFrame\n",
    "instrument = df['esge_past']  # Instrumenting esge with its past value\n",
    "endogenous = df['esge']  # The variable you believe is endogenous\n",
    "\n",
    "# Setup and run the 2SLS regression\n",
    "model = IV2SLS(dependent, independent, endogenous, instrument).fit()\n",
    "\n",
    "# Print model summary\n",
    "print(model.summary)\n",
    "\n",
    "# To instrument 'esge' with both its past value and peer scores, you might do:\n",
    "instrument2 = df[['esge_past', 'esge_peer']]\n",
    "model2 = IV2SLS(dependent, independent, endogenous, instrument2).fit()\n",
    "print(model2.summary)\n"
   ]
  }
 ],
 "metadata": {
  "kernelspec": {
   "display_name": "Python 3",
   "language": "python",
   "name": "python3"
  },
  "language_info": {
   "codemirror_mode": {
    "name": "ipython",
    "version": 3
   },
   "file_extension": ".py",
   "mimetype": "text/x-python",
   "name": "python",
   "nbconvert_exporter": "python",
   "pygments_lexer": "ipython3",
   "version": "3.10.13"
  }
 },
 "nbformat": 4,
 "nbformat_minor": 2
}
