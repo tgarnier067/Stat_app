{
 "cells": [
  {
   "cell_type": "code",
   "execution_count": 1,
   "metadata": {
    "colab": {
     "base_uri": "https://localhost:8080/"
    },
    "id": "gc-N_bxnObwn",
    "outputId": "a8cb318d-08bc-4edd-be5c-c51a68b88c5d"
   },
   "outputs": [
    {
     "name": "stdout",
     "output_type": "stream",
     "text": [
      "Collecting pyLDAvis\n",
      "  Downloading pyLDAvis-3.4.1-py3-none-any.whl (2.6 MB)\n",
      "\u001b[2K     \u001b[90m━━━━━━━━━━━━━━━━━━━━━━━━━━━━━━━━━━━━━━━━\u001b[0m \u001b[32m2.6/2.6 MB\u001b[0m \u001b[31m54.5 MB/s\u001b[0m eta \u001b[36m0:00:00\u001b[0ma \u001b[36m0:00:01\u001b[0m\n",
      "\u001b[?25hRequirement already satisfied: numpy>=1.24.2 in /opt/mamba/lib/python3.10/site-packages (from pyLDAvis) (1.26.3)\n",
      "Requirement already satisfied: scipy in /opt/mamba/lib/python3.10/site-packages (from pyLDAvis) (1.12.0)\n",
      "Requirement already satisfied: pandas>=2.0.0 in /opt/mamba/lib/python3.10/site-packages (from pyLDAvis) (2.2.0)\n",
      "Requirement already satisfied: joblib>=1.2.0 in /opt/mamba/lib/python3.10/site-packages (from pyLDAvis) (1.3.2)\n",
      "Requirement already satisfied: jinja2 in /opt/mamba/lib/python3.10/site-packages (from pyLDAvis) (3.1.3)\n",
      "Collecting numexpr (from pyLDAvis)\n",
      "  Downloading numexpr-2.8.8-cp310-cp310-manylinux_2_17_x86_64.manylinux2014_x86_64.whl.metadata (7.9 kB)\n",
      "Collecting funcy (from pyLDAvis)\n",
      "  Downloading funcy-2.0-py2.py3-none-any.whl (30 kB)\n",
      "Requirement already satisfied: scikit-learn>=1.0.0 in /opt/mamba/lib/python3.10/site-packages (from pyLDAvis) (1.4.0)\n",
      "Requirement already satisfied: gensim in /opt/mamba/lib/python3.10/site-packages (from pyLDAvis) (4.3.2)\n",
      "Requirement already satisfied: setuptools in /opt/mamba/lib/python3.10/site-packages (from pyLDAvis) (68.2.2)\n",
      "Requirement already satisfied: python-dateutil>=2.8.2 in /opt/mamba/lib/python3.10/site-packages (from pandas>=2.0.0->pyLDAvis) (2.8.2)\n",
      "Requirement already satisfied: pytz>=2020.1 in /opt/mamba/lib/python3.10/site-packages (from pandas>=2.0.0->pyLDAvis) (2023.3.post1)\n",
      "Requirement already satisfied: tzdata>=2022.7 in /opt/mamba/lib/python3.10/site-packages (from pandas>=2.0.0->pyLDAvis) (2023.4)\n",
      "Requirement already satisfied: threadpoolctl>=2.0.0 in /opt/mamba/lib/python3.10/site-packages (from scikit-learn>=1.0.0->pyLDAvis) (3.2.0)\n",
      "Requirement already satisfied: smart-open>=1.8.1 in /opt/mamba/lib/python3.10/site-packages (from gensim->pyLDAvis) (6.4.0)\n",
      "Requirement already satisfied: MarkupSafe>=2.0 in /opt/mamba/lib/python3.10/site-packages (from jinja2->pyLDAvis) (2.1.4)\n",
      "Requirement already satisfied: six>=1.5 in /opt/mamba/lib/python3.10/site-packages (from python-dateutil>=2.8.2->pandas>=2.0.0->pyLDAvis) (1.16.0)\n",
      "Downloading numexpr-2.8.8-cp310-cp310-manylinux_2_17_x86_64.manylinux2014_x86_64.whl (374 kB)\n",
      "\u001b[2K   \u001b[90m━━━━━━━━━━━━━━━━━━━━━━━━━━━━━━━━━━━━━━━━\u001b[0m \u001b[32m374.8/374.8 kB\u001b[0m \u001b[31m30.7 MB/s\u001b[0m eta \u001b[36m0:00:00\u001b[0m\n",
      "\u001b[?25hInstalling collected packages: funcy, numexpr, pyLDAvis\n",
      "Successfully installed funcy-2.0 numexpr-2.8.8 pyLDAvis-3.4.1\n"
     ]
    }
   ],
   "source": [
    "!pip install pyLDAvis"
   ]
  },
  {
   "cell_type": "code",
   "execution_count": 2,
   "metadata": {
    "colab": {
     "base_uri": "https://localhost:8080/"
    },
    "id": "4mSOVtiqNKtK",
    "outputId": "06b329e1-9b0e-41db-8110-1b4af46507d2"
   },
   "outputs": [
    {
     "name": "stderr",
     "output_type": "stream",
     "text": [
      "[nltk_data] Downloading package stopwords to /home/onyxia/nltk_data...\n",
      "[nltk_data]   Unzipping corpora/stopwords.zip.\n",
      "[nltk_data] Downloading package punkt to /home/onyxia/nltk_data...\n",
      "[nltk_data]   Unzipping tokenizers/punkt.zip.\n",
      "[nltk_data] Downloading package genesis to /home/onyxia/nltk_data...\n",
      "[nltk_data]   Unzipping corpora/genesis.zip.\n",
      "[nltk_data] Downloading package wordnet to /home/onyxia/nltk_data...\n",
      "[nltk_data] Downloading package omw-1.4 to /home/onyxia/nltk_data...\n",
      "[nltk_data] Downloading package vader_lexicon to\n",
      "[nltk_data]     /home/onyxia/nltk_data...\n"
     ]
    },
    {
     "ename": "ModuleNotFoundError",
     "evalue": "No module named 'wordcloud'",
     "output_type": "error",
     "traceback": [
      "\u001b[0;31m---------------------------------------------------------------------------\u001b[0m",
      "\u001b[0;31mModuleNotFoundError\u001b[0m                       Traceback (most recent call last)",
      "Cell \u001b[0;32mIn[2], line 13\u001b[0m\n\u001b[1;32m     11\u001b[0m \u001b[38;5;28;01mimport\u001b[39;00m \u001b[38;5;21;01mpandas\u001b[39;00m \u001b[38;5;28;01mas\u001b[39;00m \u001b[38;5;21;01mpd\u001b[39;00m \u001b[38;5;66;03m# data processing, CSV file I/O (e.g. pd.read_csv)\u001b[39;00m\n\u001b[1;32m     12\u001b[0m \u001b[38;5;28;01mimport\u001b[39;00m \u001b[38;5;21;01mmatplotlib\u001b[39;00m\u001b[38;5;21;01m.\u001b[39;00m\u001b[38;5;21;01mpyplot\u001b[39;00m \u001b[38;5;28;01mas\u001b[39;00m \u001b[38;5;21;01mplt\u001b[39;00m\n\u001b[0;32m---> 13\u001b[0m \u001b[38;5;28;01mfrom\u001b[39;00m \u001b[38;5;21;01mwordcloud\u001b[39;00m \u001b[38;5;28;01mimport\u001b[39;00m WordCloud\n\u001b[1;32m     14\u001b[0m \u001b[38;5;66;03m#from IPython.display import display\u001b[39;00m\n\u001b[1;32m     15\u001b[0m \u001b[38;5;28;01mimport\u001b[39;00m \u001b[38;5;21;01mbase64\u001b[39;00m\n",
      "\u001b[0;31mModuleNotFoundError\u001b[0m: No module named 'wordcloud'"
     ]
    }
   ],
   "source": [
    "import nltk\n",
    "nltk.download('stopwords')\n",
    "nltk.download('punkt')\n",
    "nltk.download('genesis')\n",
    "nltk.download('wordnet')\n",
    "nltk.download('omw-1.4')\n",
    "nltk.download('vader_lexicon')\n",
    "\n",
    "\n",
    "import numpy as np # linear algebra\n",
    "import pandas as pd # data processing, CSV file I/O (e.g. pd.read_csv)\n",
    "import matplotlib.pyplot as plt\n",
    "from wordcloud import WordCloud\n",
    "#from IPython.display import display\n",
    "import base64\n",
    "import string\n",
    "import re\n",
    "import nltk\n",
    "\n",
    "from collections import Counter\n",
    "from time import time\n",
    "# from sklearn.feature_extraction.stop_words import ENGLISH_STOP_WORDS as stopwords\n",
    "from sklearn.metrics import log_loss\n",
    "import matplotlib.pyplot as plt\n",
    "\n",
    "from nltk.stem import WordNetLemmatizer\n",
    "from nltk.sentiment import SentimentIntensityAnalyzer\n",
    "from nltk.tokenize import word_tokenize\n",
    "from nltk.corpus import stopwords\n",
    "from sklearn.feature_extraction.text import TfidfVectorizer, CountVectorizer\n",
    "from sklearn.decomposition import NMF, LatentDirichletAllocation"
   ]
  },
  {
   "cell_type": "markdown",
   "metadata": {
    "id": "Q3JH1r8K5gMe"
   },
   "source": [
    "# Récupération des communications"
   ]
  },
  {
   "cell_type": "markdown",
   "metadata": {
    "id": "Qi6ZdjmlEK32"
   },
   "source": [
    "## Webscrapping"
   ]
  },
  {
   "cell_type": "markdown",
   "metadata": {},
   "source": [
    "Pour voir notre travail de webscrapping, on pourra se référer au notebook nommé \"Essaie webscrapp.ipynb\""
   ]
  },
  {
   "cell_type": "markdown",
   "metadata": {},
   "source": [
    "## Une première base de donnée : Une centaine d'articles du NYT et du WSJ avec le mot clef environnement sur les derniers jours"
   ]
  },
  {
   "cell_type": "markdown",
   "metadata": {
    "id": "vkTe2cIiEQxq"
   },
   "source": [
    "## Texte fictif"
   ]
  },
  {
   "cell_type": "markdown",
   "metadata": {
    "id": "yxFMhepd8sqo"
   },
   "source": [
    "Nous n'avons pas réussi à webscrapper. En attente de la base de donnée sur disque dur, nous commençons notre analyse avec une déclaration fictive :\n",
    "\n",
    "\"Green Horizons Industrial Co. Environmental Policy Statement\n",
    "\n",
    "At Green Horizons Industrial Co., we recognize our responsibility to the environment and are committed to integrating leading environmental practices and sustainability principles into our core business strategy. We are dedicated to continuous improvement in our environmental performance, ensuring a sustainable future for generations to come.\n",
    "\n",
    "Our environmental policy aims to minimize our carbon footprint, reduce waste, conserve natural resources, and foster innovation in eco-friendly technologies. We pledge to comply with all environmental regulations and exceed them where possible.\n",
    "\n",
    "In our operations, we prioritize the following actions:\n",
    "\n",
    "- Energy Efficiency: Implementing energy-saving technologies and practices to reduce our energy consumption.\n",
    "- Waste Management: Reducing waste generation, promoting recycling and responsible disposal of industrial by-products.\n",
    "- Water Stewardship: Conserving water resources through efficient usage and treatment systems.\n",
    "- Emissions Reduction: Investing in cleaner production techniques to lower emissions and exploring renewable energy sources.\n",
    "- Biodiversity Conservation: Protecting local ecosystems, supporting reforestation, and preserving natural habitats.\n",
    "- Sustainable Sourcing: Partnering with suppliers who adhere to environmentally responsible practices.\n",
    "- Community Engagement: Working with local communities to address environmental concerns and promote green initiatives.\n",
    "- Employee Involvement: Encouraging our employees to participate in our environmental programs and make sustainable choices.\n",
    "\n",
    "Through these commitments, we aim to lead by example in our industry and contribute positively to environmental conservation and sustainability. We believe that economic growth and environmental protection should go hand in hand, and we are dedicated to achieving this balance.\n",
    "\n",
    "We will regularly review our environmental policy, monitor our performance, and report our progress transparently to all our stakeholders. At Green Horizons Industrial Co., we are not just compliant with today's standards—we are actively shaping a greener tomorrow.\""
   ]
  },
  {
   "cell_type": "markdown",
   "metadata": {
    "id": "Q3LbsAH3ETYq"
   },
   "source": [
    "## Base de données fictive"
   ]
  },
  {
   "cell_type": "markdown",
   "metadata": {
    "id": "LP6zZTQEGYuB"
   },
   "source": [
    "On va faire notre exploration à partir de la littérature anglophone (on utilise les données vu en cours avec M. Galiana) :\n",
    "\n",
    "Edgar Allan Poe, (EAP) ;\n",
    "HP Lovecraft (HPL) ;\n",
    "Mary Wollstonecraft Shelley (MWS).\n",
    "\n",
    "Nous pourrons par la suite simplement adapter notre code en ayant une base de données similaire : une colonne pour identifier l'article avec un ID, une colonne pour le texte qu'il contient, et une colonne pour le nom de l'entreprise par exemple. On pourra bien sur rajouter ensuite des colonnes qui contiendront le score de chaque article, le nom du media dans lequel il a été publié, sa date, etc."
   ]
  },
  {
   "cell_type": "code",
   "execution_count": 3,
   "metadata": {
    "id": "oGXnDTD7FoO6"
   },
   "outputs": [],
   "source": [
    "url='https://github.com/GU4243-ADS/spring2018-project1-ginnyqg/raw/master/data/spooky.csv'  # Pour accéder aux données fictives, utilisées en cours avec M. Galiana\n",
    "\n",
    "df = pd.read_csv(url,\n",
    "                    encoding='latin-1')\n",
    "df.columns = df.columns.str.capitalize()\n",
    "\n",
    "df['ID'] = df['Id'].str.replace(\"id\",\"\")\n",
    "df = df.set_index('Id')"
   ]
  },
  {
   "cell_type": "code",
   "execution_count": 4,
   "metadata": {
    "colab": {
     "base_uri": "https://localhost:8080/",
     "height": 238
    },
    "id": "AB4xnNg7Ft8_",
    "outputId": "501b20ec-991a-48ab-f57f-c9a5a50a4cd4"
   },
   "outputs": [
    {
     "data": {
      "text/html": [
       "<div>\n",
       "<style scoped>\n",
       "    .dataframe tbody tr th:only-of-type {\n",
       "        vertical-align: middle;\n",
       "    }\n",
       "\n",
       "    .dataframe tbody tr th {\n",
       "        vertical-align: top;\n",
       "    }\n",
       "\n",
       "    .dataframe thead th {\n",
       "        text-align: right;\n",
       "    }\n",
       "</style>\n",
       "<table border=\"1\" class=\"dataframe\">\n",
       "  <thead>\n",
       "    <tr style=\"text-align: right;\">\n",
       "      <th></th>\n",
       "      <th>Text</th>\n",
       "      <th>Author</th>\n",
       "      <th>ID</th>\n",
       "    </tr>\n",
       "    <tr>\n",
       "      <th>Id</th>\n",
       "      <th></th>\n",
       "      <th></th>\n",
       "      <th></th>\n",
       "    </tr>\n",
       "  </thead>\n",
       "  <tbody>\n",
       "    <tr>\n",
       "      <th>id26305</th>\n",
       "      <td>This process, however, afforded me no means of...</td>\n",
       "      <td>EAP</td>\n",
       "      <td>26305</td>\n",
       "    </tr>\n",
       "    <tr>\n",
       "      <th>id17569</th>\n",
       "      <td>It never once occurred to me that the fumbling...</td>\n",
       "      <td>HPL</td>\n",
       "      <td>17569</td>\n",
       "    </tr>\n",
       "    <tr>\n",
       "      <th>id11008</th>\n",
       "      <td>In his left hand was a gold snuff box, from wh...</td>\n",
       "      <td>EAP</td>\n",
       "      <td>11008</td>\n",
       "    </tr>\n",
       "    <tr>\n",
       "      <th>id27763</th>\n",
       "      <td>How lovely is spring As we looked from Windsor...</td>\n",
       "      <td>MWS</td>\n",
       "      <td>27763</td>\n",
       "    </tr>\n",
       "    <tr>\n",
       "      <th>id12958</th>\n",
       "      <td>Finding nothing else, not even gold, the Super...</td>\n",
       "      <td>HPL</td>\n",
       "      <td>12958</td>\n",
       "    </tr>\n",
       "  </tbody>\n",
       "</table>\n",
       "</div>"
      ],
      "text/plain": [
       "                                                      Text Author     ID\n",
       "Id                                                                      \n",
       "id26305  This process, however, afforded me no means of...    EAP  26305\n",
       "id17569  It never once occurred to me that the fumbling...    HPL  17569\n",
       "id11008  In his left hand was a gold snuff box, from wh...    EAP  11008\n",
       "id27763  How lovely is spring As we looked from Windsor...    MWS  27763\n",
       "id12958  Finding nothing else, not even gold, the Super...    HPL  12958"
      ]
     },
     "execution_count": 4,
     "metadata": {},
     "output_type": "execute_result"
    }
   ],
   "source": [
    "df.head()"
   ]
  },
  {
   "cell_type": "markdown",
   "metadata": {
    "id": "DUFpMBn5EZk8"
   },
   "source": [
    "# Traitement"
   ]
  },
  {
   "cell_type": "markdown",
   "metadata": {
    "id": "lAfkJlueLLR2"
   },
   "source": [
    "## Nettoyage"
   ]
  },
  {
   "cell_type": "markdown",
   "metadata": {
    "id": "r0lpNs2vCc7j"
   },
   "source": [
    "### Fonction de nettoyage d'un texte"
   ]
  },
  {
   "cell_type": "code",
   "execution_count": 5,
   "metadata": {
    "colab": {
     "base_uri": "https://localhost:8080/"
    },
    "id": "rOYop39T8-P6",
    "outputId": "1f2cd718-b334-4278-e29b-0282f2b354c7"
   },
   "outputs": [
    {
     "name": "stderr",
     "output_type": "stream",
     "text": [
      "[nltk_data] Downloading package punkt to /home/onyxia/nltk_data...\n",
      "[nltk_data]   Package punkt is already up-to-date!\n",
      "[nltk_data] Downloading package stopwords to /home/onyxia/nltk_data...\n",
      "[nltk_data]   Package stopwords is already up-to-date!\n",
      "[nltk_data] Downloading package wordnet to /home/onyxia/nltk_data...\n",
      "[nltk_data]   Package wordnet is already up-to-date!\n"
     ]
    }
   ],
   "source": [
    "from nltk.stem.snowball import SnowballStemmer\n",
    "stemmer = SnowballStemmer(language='english')\n",
    "\n",
    "# Download necessary NLTK data\n",
    "nltk.download('punkt')\n",
    "nltk.download('stopwords')\n",
    "nltk.download('wordnet')\n",
    "\n",
    "# Function to preprocess text\n",
    "def preprocess(text):\n",
    "    # Tokenize text\n",
    "    tokens = word_tokenize(text)\n",
    "\n",
    "    # Remove punctuation\n",
    "    tokens = [word for word in tokens if word.isalpha()]\n",
    "\n",
    "    # Remove stopwords\n",
    "    stop_words = set(stopwords.words('english'))\n",
    "    tokens = [word for word in tokens if word not in stop_words]\n",
    "\n",
    "    # Lemmatization\n",
    "    tokens = [stemmer.stem(word) for word in tokens]\n",
    "\n",
    "    return tokens"
   ]
  },
  {
   "cell_type": "markdown",
   "metadata": {
    "id": "QbZvJgn_CsZH"
   },
   "source": [
    "#### Test sur le texte fictif - [Validé]"
   ]
  },
  {
   "cell_type": "code",
   "execution_count": 6,
   "metadata": {
    "colab": {
     "base_uri": "https://localhost:8080/"
    },
    "id": "NQiftfZ8CqhR",
    "outputId": "53a3ddcc-c403-490f-8fb3-3d6919c80bf6"
   },
   "outputs": [
    {
     "ename": "FileNotFoundError",
     "evalue": "[Errno 2] No such file or directory: '/article_fictif.txt'",
     "output_type": "error",
     "traceback": [
      "\u001b[0;31m---------------------------------------------------------------------------\u001b[0m",
      "\u001b[0;31mFileNotFoundError\u001b[0m                         Traceback (most recent call last)",
      "Cell \u001b[0;32mIn[6], line 2\u001b[0m\n\u001b[1;32m      1\u001b[0m \u001b[38;5;66;03m# Read the text file\u001b[39;00m\n\u001b[0;32m----> 2\u001b[0m \u001b[38;5;28;01mwith\u001b[39;00m \u001b[38;5;28;43mopen\u001b[39;49m\u001b[43m(\u001b[49m\u001b[38;5;124;43m'\u001b[39;49m\u001b[38;5;124;43m/article_fictif.txt\u001b[39;49m\u001b[38;5;124;43m'\u001b[39;49m\u001b[43m,\u001b[49m\u001b[43m \u001b[49m\u001b[38;5;124;43m'\u001b[39;49m\u001b[38;5;124;43mr\u001b[39;49m\u001b[38;5;124;43m'\u001b[39;49m\u001b[43m,\u001b[49m\u001b[43m \u001b[49m\u001b[43mencoding\u001b[49m\u001b[38;5;241;43m=\u001b[39;49m\u001b[38;5;124;43m'\u001b[39;49m\u001b[38;5;124;43mutf-8\u001b[39;49m\u001b[38;5;124;43m'\u001b[39;49m\u001b[43m)\u001b[49m \u001b[38;5;28;01mas\u001b[39;00m file:\n\u001b[1;32m      3\u001b[0m     text_data \u001b[38;5;241m=\u001b[39m file\u001b[38;5;241m.\u001b[39mread()\n\u001b[1;32m      5\u001b[0m \u001b[38;5;66;03m# Preprocess the text\u001b[39;00m\n",
      "File \u001b[0;32m/opt/mamba/lib/python3.10/site-packages/IPython/core/interactiveshell.py:310\u001b[0m, in \u001b[0;36m_modified_open\u001b[0;34m(file, *args, **kwargs)\u001b[0m\n\u001b[1;32m    303\u001b[0m \u001b[38;5;28;01mif\u001b[39;00m file \u001b[38;5;129;01min\u001b[39;00m {\u001b[38;5;241m0\u001b[39m, \u001b[38;5;241m1\u001b[39m, \u001b[38;5;241m2\u001b[39m}:\n\u001b[1;32m    304\u001b[0m     \u001b[38;5;28;01mraise\u001b[39;00m \u001b[38;5;167;01mValueError\u001b[39;00m(\n\u001b[1;32m    305\u001b[0m         \u001b[38;5;124mf\u001b[39m\u001b[38;5;124m\"\u001b[39m\u001b[38;5;124mIPython won\u001b[39m\u001b[38;5;124m'\u001b[39m\u001b[38;5;124mt let you open fd=\u001b[39m\u001b[38;5;132;01m{\u001b[39;00mfile\u001b[38;5;132;01m}\u001b[39;00m\u001b[38;5;124m by default \u001b[39m\u001b[38;5;124m\"\u001b[39m\n\u001b[1;32m    306\u001b[0m         \u001b[38;5;124m\"\u001b[39m\u001b[38;5;124mas it is likely to crash IPython. If you know what you are doing, \u001b[39m\u001b[38;5;124m\"\u001b[39m\n\u001b[1;32m    307\u001b[0m         \u001b[38;5;124m\"\u001b[39m\u001b[38;5;124myou can use builtins\u001b[39m\u001b[38;5;124m'\u001b[39m\u001b[38;5;124m open.\u001b[39m\u001b[38;5;124m\"\u001b[39m\n\u001b[1;32m    308\u001b[0m     )\n\u001b[0;32m--> 310\u001b[0m \u001b[38;5;28;01mreturn\u001b[39;00m \u001b[43mio_open\u001b[49m\u001b[43m(\u001b[49m\u001b[43mfile\u001b[49m\u001b[43m,\u001b[49m\u001b[43m \u001b[49m\u001b[38;5;241;43m*\u001b[39;49m\u001b[43margs\u001b[49m\u001b[43m,\u001b[49m\u001b[43m \u001b[49m\u001b[38;5;241;43m*\u001b[39;49m\u001b[38;5;241;43m*\u001b[39;49m\u001b[43mkwargs\u001b[49m\u001b[43m)\u001b[49m\n",
      "\u001b[0;31mFileNotFoundError\u001b[0m: [Errno 2] No such file or directory: '/article_fictif.txt'"
     ]
    }
   ],
   "source": [
    "# Read the text file\n",
    "with open('/article_fictif.txt', 'r', encoding='utf-8') as file:\n",
    "    text_data = file.read()\n",
    "\n",
    "# Preprocess the text\n",
    "processed_text = preprocess(text_data)\n",
    "\n",
    "processed_text"
   ]
  },
  {
   "cell_type": "markdown",
   "metadata": {
    "id": "_FRmxr2qEj6k"
   },
   "source": [
    "### Extension à toute une base de données"
   ]
  },
  {
   "cell_type": "code",
   "execution_count": 7,
   "metadata": {
    "id": "YpDdwl2dCn82"
   },
   "outputs": [],
   "source": [
    "def preprocess_dataframe(df, group_columns, text_column):\n",
    "    # Initialize Lemmatizer and Stopwords\n",
    "    lemma = WordNetLemmatizer()\n",
    "    stop_words = set(stopwords.words('english'))\n",
    "\n",
    "    # Tokenization and cleaning\n",
    "    df['tokenized'] = df.groupby(group_columns)[text_column].transform(lambda x: ' '.join(x))\n",
    "    df['tokenized'] = df['tokenized'].apply(lambda x: word_tokenize(x))\n",
    "    df['tokenized'] = df['tokenized'].apply(lambda x: [word for word in x if word.isalpha()])\n",
    "\n",
    "    # Remove stopwords and apply lemmatization\n",
    "    df['tokenized'] = df['tokenized'].apply(lambda x: [lemma.lemmatize(w) for w in x if not w in stop_words])\n",
    "\n",
    "    return df.reset_index()\n"
   ]
  },
  {
   "cell_type": "markdown",
   "metadata": {
    "id": "9X0-KVRqKkpt"
   },
   "source": [
    "#### Test sur la base de données fictive [Validé]"
   ]
  },
  {
   "cell_type": "code",
   "execution_count": 8,
   "metadata": {
    "colab": {
     "base_uri": "https://localhost:8080/",
     "height": 1321
    },
    "id": "p6jK1g1uKcZJ",
    "outputId": "e5e8991e-3167-4c6f-a77d-22542c79a055"
   },
   "outputs": [
    {
     "data": {
      "text/html": [
       "\n",
       "  <div id=\"df-571445be-bea8-4168-b494-219042808857\" class=\"colab-df-container\">\n",
       "    <div>\n",
       "<style scoped>\n",
       "    .dataframe tbody tr th:only-of-type {\n",
       "        vertical-align: middle;\n",
       "    }\n",
       "\n",
       "    .dataframe tbody tr th {\n",
       "        vertical-align: top;\n",
       "    }\n",
       "\n",
       "    .dataframe thead th {\n",
       "        text-align: right;\n",
       "    }\n",
       "</style>\n",
       "<table border=\"1\" class=\"dataframe\">\n",
       "  <thead>\n",
       "    <tr style=\"text-align: right;\">\n",
       "      <th></th>\n",
       "      <th>Id</th>\n",
       "      <th>Text</th>\n",
       "      <th>Author</th>\n",
       "      <th>ID</th>\n",
       "      <th>tokenized</th>\n",
       "    </tr>\n",
       "  </thead>\n",
       "  <tbody>\n",
       "    <tr>\n",
       "      <th>0</th>\n",
       "      <td>id26305</td>\n",
       "      <td>This process, however, afforded me no means of...</td>\n",
       "      <td>EAP</td>\n",
       "      <td>26305</td>\n",
       "      <td>[This, process, however, afforded, mean, ascer...</td>\n",
       "    </tr>\n",
       "    <tr>\n",
       "      <th>1</th>\n",
       "      <td>id17569</td>\n",
       "      <td>It never once occurred to me that the fumbling...</td>\n",
       "      <td>HPL</td>\n",
       "      <td>17569</td>\n",
       "      <td>[It, never, occurred, fumbling, might, mere, m...</td>\n",
       "    </tr>\n",
       "    <tr>\n",
       "      <th>2</th>\n",
       "      <td>id11008</td>\n",
       "      <td>In his left hand was a gold snuff box, from wh...</td>\n",
       "      <td>EAP</td>\n",
       "      <td>11008</td>\n",
       "      <td>[In, left, hand, gold, snuff, box, capered, hi...</td>\n",
       "    </tr>\n",
       "    <tr>\n",
       "      <th>3</th>\n",
       "      <td>id27763</td>\n",
       "      <td>How lovely is spring As we looked from Windsor...</td>\n",
       "      <td>MWS</td>\n",
       "      <td>27763</td>\n",
       "      <td>[How, lovely, spring, As, looked, Windsor, Ter...</td>\n",
       "    </tr>\n",
       "    <tr>\n",
       "      <th>4</th>\n",
       "      <td>id12958</td>\n",
       "      <td>Finding nothing else, not even gold, the Super...</td>\n",
       "      <td>HPL</td>\n",
       "      <td>12958</td>\n",
       "      <td>[Finding, nothing, else, even, gold, Superinte...</td>\n",
       "    </tr>\n",
       "  </tbody>\n",
       "</table>\n",
       "</div>\n",
       "    <div class=\"colab-df-buttons\">\n",
       "\n",
       "  <div class=\"colab-df-container\">\n",
       "    <button class=\"colab-df-convert\" onclick=\"convertToInteractive('df-571445be-bea8-4168-b494-219042808857')\"\n",
       "            title=\"Convert this dataframe to an interactive table.\"\n",
       "            style=\"display:none;\">\n",
       "\n",
       "  <svg xmlns=\"http://www.w3.org/2000/svg\" height=\"24px\" viewBox=\"0 -960 960 960\">\n",
       "    <path d=\"M120-120v-720h720v720H120Zm60-500h600v-160H180v160Zm220 220h160v-160H400v160Zm0 220h160v-160H400v160ZM180-400h160v-160H180v160Zm440 0h160v-160H620v160ZM180-180h160v-160H180v160Zm440 0h160v-160H620v160Z\"/>\n",
       "  </svg>\n",
       "    </button>\n",
       "\n",
       "  <style>\n",
       "    .colab-df-container {\n",
       "      display:flex;\n",
       "      gap: 12px;\n",
       "    }\n",
       "\n",
       "    .colab-df-convert {\n",
       "      background-color: #E8F0FE;\n",
       "      border: none;\n",
       "      border-radius: 50%;\n",
       "      cursor: pointer;\n",
       "      display: none;\n",
       "      fill: #1967D2;\n",
       "      height: 32px;\n",
       "      padding: 0 0 0 0;\n",
       "      width: 32px;\n",
       "    }\n",
       "\n",
       "    .colab-df-convert:hover {\n",
       "      background-color: #E2EBFA;\n",
       "      box-shadow: 0px 1px 2px rgba(60, 64, 67, 0.3), 0px 1px 3px 1px rgba(60, 64, 67, 0.15);\n",
       "      fill: #174EA6;\n",
       "    }\n",
       "\n",
       "    .colab-df-buttons div {\n",
       "      margin-bottom: 4px;\n",
       "    }\n",
       "\n",
       "    [theme=dark] .colab-df-convert {\n",
       "      background-color: #3B4455;\n",
       "      fill: #D2E3FC;\n",
       "    }\n",
       "\n",
       "    [theme=dark] .colab-df-convert:hover {\n",
       "      background-color: #434B5C;\n",
       "      box-shadow: 0px 1px 3px 1px rgba(0, 0, 0, 0.15);\n",
       "      filter: drop-shadow(0px 1px 2px rgba(0, 0, 0, 0.3));\n",
       "      fill: #FFFFFF;\n",
       "    }\n",
       "  </style>\n",
       "\n",
       "    <script>\n",
       "      const buttonEl =\n",
       "        document.querySelector('#df-571445be-bea8-4168-b494-219042808857 button.colab-df-convert');\n",
       "      buttonEl.style.display =\n",
       "        google.colab.kernel.accessAllowed ? 'block' : 'none';\n",
       "\n",
       "      async function convertToInteractive(key) {\n",
       "        const element = document.querySelector('#df-571445be-bea8-4168-b494-219042808857');\n",
       "        const dataTable =\n",
       "          await google.colab.kernel.invokeFunction('convertToInteractive',\n",
       "                                                    [key], {});\n",
       "        if (!dataTable) return;\n",
       "\n",
       "        const docLinkHtml = 'Like what you see? Visit the ' +\n",
       "          '<a target=\"_blank\" href=https://colab.research.google.com/notebooks/data_table.ipynb>data table notebook</a>'\n",
       "          + ' to learn more about interactive tables.';\n",
       "        element.innerHTML = '';\n",
       "        dataTable['output_type'] = 'display_data';\n",
       "        await google.colab.output.renderOutput(dataTable, element);\n",
       "        const docLink = document.createElement('div');\n",
       "        docLink.innerHTML = docLinkHtml;\n",
       "        element.appendChild(docLink);\n",
       "      }\n",
       "    </script>\n",
       "  </div>\n",
       "\n",
       "\n",
       "<div id=\"df-4c71b9fe-4bd2-4e1f-a8e4-2c55eb5283dd\">\n",
       "  <button class=\"colab-df-quickchart\" onclick=\"quickchart('df-4c71b9fe-4bd2-4e1f-a8e4-2c55eb5283dd')\"\n",
       "            title=\"Suggest charts\"\n",
       "            style=\"display:none;\">\n",
       "\n",
       "<svg xmlns=\"http://www.w3.org/2000/svg\" height=\"24px\"viewBox=\"0 0 24 24\"\n",
       "     width=\"24px\">\n",
       "    <g>\n",
       "        <path d=\"M19 3H5c-1.1 0-2 .9-2 2v14c0 1.1.9 2 2 2h14c1.1 0 2-.9 2-2V5c0-1.1-.9-2-2-2zM9 17H7v-7h2v7zm4 0h-2V7h2v10zm4 0h-2v-4h2v4z\"/>\n",
       "    </g>\n",
       "</svg>\n",
       "  </button>\n",
       "\n",
       "<style>\n",
       "  .colab-df-quickchart {\n",
       "      --bg-color: #E8F0FE;\n",
       "      --fill-color: #1967D2;\n",
       "      --hover-bg-color: #E2EBFA;\n",
       "      --hover-fill-color: #174EA6;\n",
       "      --disabled-fill-color: #AAA;\n",
       "      --disabled-bg-color: #DDD;\n",
       "  }\n",
       "\n",
       "  [theme=dark] .colab-df-quickchart {\n",
       "      --bg-color: #3B4455;\n",
       "      --fill-color: #D2E3FC;\n",
       "      --hover-bg-color: #434B5C;\n",
       "      --hover-fill-color: #FFFFFF;\n",
       "      --disabled-bg-color: #3B4455;\n",
       "      --disabled-fill-color: #666;\n",
       "  }\n",
       "\n",
       "  .colab-df-quickchart {\n",
       "    background-color: var(--bg-color);\n",
       "    border: none;\n",
       "    border-radius: 50%;\n",
       "    cursor: pointer;\n",
       "    display: none;\n",
       "    fill: var(--fill-color);\n",
       "    height: 32px;\n",
       "    padding: 0;\n",
       "    width: 32px;\n",
       "  }\n",
       "\n",
       "  .colab-df-quickchart:hover {\n",
       "    background-color: var(--hover-bg-color);\n",
       "    box-shadow: 0 1px 2px rgba(60, 64, 67, 0.3), 0 1px 3px 1px rgba(60, 64, 67, 0.15);\n",
       "    fill: var(--button-hover-fill-color);\n",
       "  }\n",
       "\n",
       "  .colab-df-quickchart-complete:disabled,\n",
       "  .colab-df-quickchart-complete:disabled:hover {\n",
       "    background-color: var(--disabled-bg-color);\n",
       "    fill: var(--disabled-fill-color);\n",
       "    box-shadow: none;\n",
       "  }\n",
       "\n",
       "  .colab-df-spinner {\n",
       "    border: 2px solid var(--fill-color);\n",
       "    border-color: transparent;\n",
       "    border-bottom-color: var(--fill-color);\n",
       "    animation:\n",
       "      spin 1s steps(1) infinite;\n",
       "  }\n",
       "\n",
       "  @keyframes spin {\n",
       "    0% {\n",
       "      border-color: transparent;\n",
       "      border-bottom-color: var(--fill-color);\n",
       "      border-left-color: var(--fill-color);\n",
       "    }\n",
       "    20% {\n",
       "      border-color: transparent;\n",
       "      border-left-color: var(--fill-color);\n",
       "      border-top-color: var(--fill-color);\n",
       "    }\n",
       "    30% {\n",
       "      border-color: transparent;\n",
       "      border-left-color: var(--fill-color);\n",
       "      border-top-color: var(--fill-color);\n",
       "      border-right-color: var(--fill-color);\n",
       "    }\n",
       "    40% {\n",
       "      border-color: transparent;\n",
       "      border-right-color: var(--fill-color);\n",
       "      border-top-color: var(--fill-color);\n",
       "    }\n",
       "    60% {\n",
       "      border-color: transparent;\n",
       "      border-right-color: var(--fill-color);\n",
       "    }\n",
       "    80% {\n",
       "      border-color: transparent;\n",
       "      border-right-color: var(--fill-color);\n",
       "      border-bottom-color: var(--fill-color);\n",
       "    }\n",
       "    90% {\n",
       "      border-color: transparent;\n",
       "      border-bottom-color: var(--fill-color);\n",
       "    }\n",
       "  }\n",
       "</style>\n",
       "\n",
       "  <script>\n",
       "    async function quickchart(key) {\n",
       "      const quickchartButtonEl =\n",
       "        document.querySelector('#' + key + ' button');\n",
       "      quickchartButtonEl.disabled = true;  // To prevent multiple clicks.\n",
       "      quickchartButtonEl.classList.add('colab-df-spinner');\n",
       "      try {\n",
       "        const charts = await google.colab.kernel.invokeFunction(\n",
       "            'suggestCharts', [key], {});\n",
       "      } catch (error) {\n",
       "        console.error('Error during call to suggestCharts:', error);\n",
       "      }\n",
       "      quickchartButtonEl.classList.remove('colab-df-spinner');\n",
       "      quickchartButtonEl.classList.add('colab-df-quickchart-complete');\n",
       "    }\n",
       "    (() => {\n",
       "      let quickchartButtonEl =\n",
       "        document.querySelector('#df-4c71b9fe-4bd2-4e1f-a8e4-2c55eb5283dd button');\n",
       "      quickchartButtonEl.style.display =\n",
       "        google.colab.kernel.accessAllowed ? 'block' : 'none';\n",
       "    })();\n",
       "  </script>\n",
       "</div>\n",
       "    </div>\n",
       "  </div>\n"
      ],
      "text/plain": [
       "        Id                                               Text Author     ID  \\\n",
       "0  id26305  This process, however, afforded me no means of...    EAP  26305   \n",
       "1  id17569  It never once occurred to me that the fumbling...    HPL  17569   \n",
       "2  id11008  In his left hand was a gold snuff box, from wh...    EAP  11008   \n",
       "3  id27763  How lovely is spring As we looked from Windsor...    MWS  27763   \n",
       "4  id12958  Finding nothing else, not even gold, the Super...    HPL  12958   \n",
       "\n",
       "                                           tokenized  \n",
       "0  [This, process, however, afforded, mean, ascer...  \n",
       "1  [It, never, occurred, fumbling, might, mere, m...  \n",
       "2  [In, left, hand, gold, snuff, box, capered, hi...  \n",
       "3  [How, lovely, spring, As, looked, Windsor, Ter...  \n",
       "4  [Finding, nothing, else, even, gold, Superinte...  "
      ]
     },
     "execution_count": 8,
     "metadata": {},
     "output_type": "execute_result"
    }
   ],
   "source": [
    "df_clean = preprocess_dataframe(df, ['ID', 'Author'], 'Text')\n",
    "\n",
    "df_clean.head(5)"
   ]
  },
  {
   "cell_type": "markdown",
   "metadata": {
    "id": "mhRQgxwaLTRg"
   },
   "source": [
    "## Regrouper les articles par sujet - LDA"
   ]
  },
  {
   "cell_type": "code",
   "execution_count": 9,
   "metadata": {
    "colab": {
     "base_uri": "https://localhost:8080/",
     "height": 109
    },
    "id": "2q_SKfwgMS1e",
    "outputId": "5401d34f-5c0e-4028-b633-042ec66a6392"
   },
   "outputs": [
    {
     "data": {
      "text/html": [
       "<style>#sk-container-id-1 {color: black;background-color: white;}#sk-container-id-1 pre{padding: 0;}#sk-container-id-1 div.sk-toggleable {background-color: white;}#sk-container-id-1 label.sk-toggleable__label {cursor: pointer;display: block;width: 100%;margin-bottom: 0;padding: 0.3em;box-sizing: border-box;text-align: center;}#sk-container-id-1 label.sk-toggleable__label-arrow:before {content: \"▸\";float: left;margin-right: 0.25em;color: #696969;}#sk-container-id-1 label.sk-toggleable__label-arrow:hover:before {color: black;}#sk-container-id-1 div.sk-estimator:hover label.sk-toggleable__label-arrow:before {color: black;}#sk-container-id-1 div.sk-toggleable__content {max-height: 0;max-width: 0;overflow: hidden;text-align: left;background-color: #f0f8ff;}#sk-container-id-1 div.sk-toggleable__content pre {margin: 0.2em;color: black;border-radius: 0.25em;background-color: #f0f8ff;}#sk-container-id-1 input.sk-toggleable__control:checked~div.sk-toggleable__content {max-height: 200px;max-width: 100%;overflow: auto;}#sk-container-id-1 input.sk-toggleable__control:checked~label.sk-toggleable__label-arrow:before {content: \"▾\";}#sk-container-id-1 div.sk-estimator input.sk-toggleable__control:checked~label.sk-toggleable__label {background-color: #d4ebff;}#sk-container-id-1 div.sk-label input.sk-toggleable__control:checked~label.sk-toggleable__label {background-color: #d4ebff;}#sk-container-id-1 input.sk-hidden--visually {border: 0;clip: rect(1px 1px 1px 1px);clip: rect(1px, 1px, 1px, 1px);height: 1px;margin: -1px;overflow: hidden;padding: 0;position: absolute;width: 1px;}#sk-container-id-1 div.sk-estimator {font-family: monospace;background-color: #f0f8ff;border: 1px dotted black;border-radius: 0.25em;box-sizing: border-box;margin-bottom: 0.5em;}#sk-container-id-1 div.sk-estimator:hover {background-color: #d4ebff;}#sk-container-id-1 div.sk-parallel-item::after {content: \"\";width: 100%;border-bottom: 1px solid gray;flex-grow: 1;}#sk-container-id-1 div.sk-label:hover label.sk-toggleable__label {background-color: #d4ebff;}#sk-container-id-1 div.sk-serial::before {content: \"\";position: absolute;border-left: 1px solid gray;box-sizing: border-box;top: 0;bottom: 0;left: 50%;z-index: 0;}#sk-container-id-1 div.sk-serial {display: flex;flex-direction: column;align-items: center;background-color: white;padding-right: 0.2em;padding-left: 0.2em;position: relative;}#sk-container-id-1 div.sk-item {position: relative;z-index: 1;}#sk-container-id-1 div.sk-parallel {display: flex;align-items: stretch;justify-content: center;background-color: white;position: relative;}#sk-container-id-1 div.sk-item::before, #sk-container-id-1 div.sk-parallel-item::before {content: \"\";position: absolute;border-left: 1px solid gray;box-sizing: border-box;top: 0;bottom: 0;left: 50%;z-index: -1;}#sk-container-id-1 div.sk-parallel-item {display: flex;flex-direction: column;z-index: 1;position: relative;background-color: white;}#sk-container-id-1 div.sk-parallel-item:first-child::after {align-self: flex-end;width: 50%;}#sk-container-id-1 div.sk-parallel-item:last-child::after {align-self: flex-start;width: 50%;}#sk-container-id-1 div.sk-parallel-item:only-child::after {width: 0;}#sk-container-id-1 div.sk-dashed-wrapped {border: 1px dashed gray;margin: 0 0.4em 0.5em 0.4em;box-sizing: border-box;padding-bottom: 0.4em;background-color: white;}#sk-container-id-1 div.sk-label label {font-family: monospace;font-weight: bold;display: inline-block;line-height: 1.2em;}#sk-container-id-1 div.sk-label-container {text-align: center;}#sk-container-id-1 div.sk-container {/* jupyter's `normalize.less` sets `[hidden] { display: none; }` but bootstrap.min.css set `[hidden] { display: none !important; }` so we also need the `!important` here to be able to override the default hidden behavior on the sphinx rendered scikit-learn.org. See: https://github.com/scikit-learn/scikit-learn/issues/21755 */display: inline-block !important;position: relative;}#sk-container-id-1 div.sk-text-repr-fallback {display: none;}</style><div id=\"sk-container-id-1\" class=\"sk-top-container\"><div class=\"sk-text-repr-fallback\"><pre>LatentDirichletAllocation(learning_method=&#x27;online&#x27;, learning_offset=50.0,\n",
       "                          max_iter=5, n_components=11, n_jobs=1,\n",
       "                          random_state=0)</pre><b>In a Jupyter environment, please rerun this cell to show the HTML representation or trust the notebook. <br />On GitHub, the HTML representation is unable to render, please try loading this page with nbviewer.org.</b></div><div class=\"sk-container\" hidden><div class=\"sk-item\"><div class=\"sk-estimator sk-toggleable\"><input class=\"sk-toggleable__control sk-hidden--visually\" id=\"sk-estimator-id-1\" type=\"checkbox\" checked><label for=\"sk-estimator-id-1\" class=\"sk-toggleable__label sk-toggleable__label-arrow\">LatentDirichletAllocation</label><div class=\"sk-toggleable__content\"><pre>LatentDirichletAllocation(learning_method=&#x27;online&#x27;, learning_offset=50.0,\n",
       "                          max_iter=5, n_components=11, n_jobs=1,\n",
       "                          random_state=0)</pre></div></div></div></div></div>"
      ],
      "text/plain": [
       "LatentDirichletAllocation(learning_method='online', learning_offset=50.0,\n",
       "                          max_iter=5, n_components=11, n_jobs=1,\n",
       "                          random_state=0)"
      ]
     },
     "execution_count": 9,
     "metadata": {},
     "output_type": "execute_result"
    }
   ],
   "source": [
    "# Initialise the count vectorizer with the English stop words\n",
    "count_vectorizer = CountVectorizer(stop_words='english')# Fit and transform the processed titles\n",
    "count_data = count_vectorizer.fit_transform(df_clean['tokenized'].apply(lambda s: ' '.join(s)))\n",
    "\n",
    "# Tweak the two parameters below\n",
    "number_topics = 5\n",
    "number_words = 10# Create and fit the LDA model\n",
    "lda = LatentDirichletAllocation(n_components=11, max_iter=5,\n",
    "                                learning_method = 'online',\n",
    "                                learning_offset = 50.,\n",
    "                                random_state = 0,\n",
    "                                n_jobs = 1)\n",
    "lda.fit(count_data)"
   ]
  },
  {
   "cell_type": "code",
   "execution_count": 11,
   "metadata": {
    "colab": {
     "base_uri": "https://localhost:8080/",
     "height": 449
    },
    "id": "HS9vI81RM3dW",
    "outputId": "d7a468b2-3f38-47d2-8492-0a130a837406"
   },
   "outputs": [
    {
     "data": {
      "image/png": "[encoded data removed]",
      "text/plain": [
       "<Figure size 640x480 with 11 Axes>"
      ]
     },
     "metadata": {},
     "output_type": "display_data"
    }
   ],
   "source": [
    "tf_feature_names = count_vectorizer.get_feature_names_out()\n",
    "\n",
    "def wordcloud_lda(lda, tf_feature_names):\n",
    "\n",
    "  fig, axs = plt.subplots(len(lda.components_) // 3 + 1, 3)\n",
    "  stop_words = set(stopwords.words('english'))\n",
    "\n",
    "  for i in range(len(lda.components_)):\n",
    "      corpus_lda = lda.components_[i]\n",
    "      first_topic_words = [tf_feature_names[l] for l in corpus_lda.argsort()[:-50-1:-1]]\n",
    "      k = i // 3\n",
    "      j = (i - k*3)\n",
    "      wordcloud = WordCloud(stopwords=stop_words, background_color=\"black\",width = 2500, height = 1800)\n",
    "      wordcloud = wordcloud.generate(\" \".join(first_topic_words))\n",
    "      axs[k][j].set_title(\"Wordcloud pour le \\nsujet {}\".format(i))\n",
    "      axs[k][j].axis('off')\n",
    "      axs[k][j].imshow(wordcloud)\n",
    "\n",
    "  r = len(lda.components_) % 3\n",
    "  [fig.delaxes(axs[len(lda.components_) // 3,k-1]) for k in range(r+1, 3+1) if r != 0]\n",
    "\n",
    "wc = wordcloud_lda(lda, tf_feature_names)\n",
    "wc"
   ]
  },
  {
   "cell_type": "markdown",
   "metadata": {
    "id": "EA99lQ4VRIPj"
   },
   "source": [
    "## Analyse du sentiment des textes"
   ]
  },
  {
   "cell_type": "markdown",
   "metadata": {
    "id": "EApSppc3ROou"
   },
   "source": [
    "### Sentiment général"
   ]
  },
  {
   "cell_type": "markdown",
   "metadata": {
    "id": "w6163XiZXN2i"
   },
   "source": [
    "Le score donné varie de -1 à 1 avec -1 comme la négativité maximale et 1 comme la positivité maximale. 0 pour dire que le texte est neutre."
   ]
  },
  {
   "cell_type": "code",
   "execution_count": 13,
   "metadata": {
    "colab": {
     "base_uri": "https://localhost:8080/",
     "height": 571
    },
    "id": "3cIikpC8RVPd",
    "outputId": "09d001bc-f208-4a1e-a073-8981d04cba49"
   },
   "outputs": [
    {
     "data": {
      "text/html": [
       "\n",
       "  <div id=\"df-58707cce-eacf-4d44-8ca7-81bec541cfa9\" class=\"colab-df-container\">\n",
       "    <div>\n",
       "<style scoped>\n",
       "    .dataframe tbody tr th:only-of-type {\n",
       "        vertical-align: middle;\n",
       "    }\n",
       "\n",
       "    .dataframe tbody tr th {\n",
       "        vertical-align: top;\n",
       "    }\n",
       "\n",
       "    .dataframe thead th {\n",
       "        text-align: right;\n",
       "    }\n",
       "</style>\n",
       "<table border=\"1\" class=\"dataframe\">\n",
       "  <thead>\n",
       "    <tr style=\"text-align: right;\">\n",
       "      <th></th>\n",
       "      <th>Id</th>\n",
       "      <th>Text</th>\n",
       "      <th>Author</th>\n",
       "      <th>ID</th>\n",
       "      <th>tokenized</th>\n",
       "      <th>general_sentiment_score</th>\n",
       "    </tr>\n",
       "  </thead>\n",
       "  <tbody>\n",
       "    <tr>\n",
       "      <th>8239</th>\n",
       "      <td>id00001</td>\n",
       "      <td>Idris was well content with this resolve of mine.</td>\n",
       "      <td>MWS</td>\n",
       "      <td>00001</td>\n",
       "      <td>[Idris, well, content, resolve, mine]</td>\n",
       "      <td>0.5719</td>\n",
       "    </tr>\n",
       "    <tr>\n",
       "      <th>986</th>\n",
       "      <td>id00002</td>\n",
       "      <td>I was faint, even fainter than the hateful mod...</td>\n",
       "      <td>HPL</td>\n",
       "      <td>00002</td>\n",
       "      <td>[I, faint, even, fainter, hateful, modernity, ...</td>\n",
       "      <td>-0.4939</td>\n",
       "    </tr>\n",
       "    <tr>\n",
       "      <th>6590</th>\n",
       "      <td>id00003</td>\n",
       "      <td>Above all, I burn to know the incidents of you...</td>\n",
       "      <td>EAP</td>\n",
       "      <td>00003</td>\n",
       "      <td>[Above, I, burn, know, incident, passage, dark...</td>\n",
       "      <td>0.0000</td>\n",
       "    </tr>\n",
       "    <tr>\n",
       "      <th>13419</th>\n",
       "      <td>id00004</td>\n",
       "      <td>He might see, perhaps, one or two points with ...</td>\n",
       "      <td>EAP</td>\n",
       "      <td>00004</td>\n",
       "      <td>[He, might, see, perhaps, one, two, point, unu...</td>\n",
       "      <td>-0.2960</td>\n",
       "    </tr>\n",
       "    <tr>\n",
       "      <th>6736</th>\n",
       "      <td>id00005</td>\n",
       "      <td>All obeyed the Lord Protector of dying England...</td>\n",
       "      <td>MWS</td>\n",
       "      <td>00005</td>\n",
       "      <td>[All, obeyed, Lord, Protector, dying, England,...</td>\n",
       "      <td>0.0000</td>\n",
       "    </tr>\n",
       "    <tr>\n",
       "      <th>5192</th>\n",
       "      <td>id00006</td>\n",
       "      <td>It was difficult, at any given time, to say wi...</td>\n",
       "      <td>EAP</td>\n",
       "      <td>00006</td>\n",
       "      <td>[It, difficult, given, time, say, certainty, u...</td>\n",
       "      <td>-0.1280</td>\n",
       "    </tr>\n",
       "    <tr>\n",
       "      <th>4396</th>\n",
       "      <td>id00007</td>\n",
       "      <td>Now, it cannot be maintained, even, that by th...</td>\n",
       "      <td>EAP</td>\n",
       "      <td>00007</td>\n",
       "      <td>[Now, maintained, even, crawling, system, grea...</td>\n",
       "      <td>0.6124</td>\n",
       "    </tr>\n",
       "    <tr>\n",
       "      <th>12072</th>\n",
       "      <td>id00009</td>\n",
       "      <td>Alien it indeed was to all art and literature ...</td>\n",
       "      <td>HPL</td>\n",
       "      <td>00009</td>\n",
       "      <td>[Alien, indeed, art, literature, sane, balance...</td>\n",
       "      <td>-0.8658</td>\n",
       "    </tr>\n",
       "    <tr>\n",
       "      <th>17252</th>\n",
       "      <td>id00010</td>\n",
       "      <td>\"But it is true that I am a wretch.</td>\n",
       "      <td>MWS</td>\n",
       "      <td>00010</td>\n",
       "      <td>[But, true, I, wretch]</td>\n",
       "      <td>0.5719</td>\n",
       "    </tr>\n",
       "    <tr>\n",
       "      <th>13791</th>\n",
       "      <td>id00012</td>\n",
       "      <td>They had deposited me in the coffin.</td>\n",
       "      <td>EAP</td>\n",
       "      <td>00012</td>\n",
       "      <td>[They, deposited, coffin]</td>\n",
       "      <td>0.0000</td>\n",
       "    </tr>\n",
       "  </tbody>\n",
       "</table>\n",
       "</div>\n",
       "    <div class=\"colab-df-buttons\">\n",
       "\n",
       "  <div class=\"colab-df-container\">\n",
       "    <button class=\"colab-df-convert\" onclick=\"convertToInteractive('df-58707cce-eacf-4d44-8ca7-81bec541cfa9')\"\n",
       "            title=\"Convert this dataframe to an interactive table.\"\n",
       "            style=\"display:none;\">\n",
       "\n",
       "  <svg xmlns=\"http://www.w3.org/2000/svg\" height=\"24px\" viewBox=\"0 -960 960 960\">\n",
       "    <path d=\"M120-120v-720h720v720H120Zm60-500h600v-160H180v160Zm220 220h160v-160H400v160Zm0 220h160v-160H400v160ZM180-400h160v-160H180v160Zm440 0h160v-160H620v160ZM180-180h160v-160H180v160Zm440 0h160v-160H620v160Z\"/>\n",
       "  </svg>\n",
       "    </button>\n",
       "\n",
       "  <style>\n",
       "    .colab-df-container {\n",
       "      display:flex;\n",
       "      gap: 12px;\n",
       "    }\n",
       "\n",
       "    .colab-df-convert {\n",
       "      background-color: #E8F0FE;\n",
       "      border: none;\n",
       "      border-radius: 50%;\n",
       "      cursor: pointer;\n",
       "      display: none;\n",
       "      fill: #1967D2;\n",
       "      height: 32px;\n",
       "      padding: 0 0 0 0;\n",
       "      width: 32px;\n",
       "    }\n",
       "\n",
       "    .colab-df-convert:hover {\n",
       "      background-color: #E2EBFA;\n",
       "      box-shadow: 0px 1px 2px rgba(60, 64, 67, 0.3), 0px 1px 3px 1px rgba(60, 64, 67, 0.15);\n",
       "      fill: #174EA6;\n",
       "    }\n",
       "\n",
       "    .colab-df-buttons div {\n",
       "      margin-bottom: 4px;\n",
       "    }\n",
       "\n",
       "    [theme=dark] .colab-df-convert {\n",
       "      background-color: #3B4455;\n",
       "      fill: #D2E3FC;\n",
       "    }\n",
       "\n",
       "    [theme=dark] .colab-df-convert:hover {\n",
       "      background-color: #434B5C;\n",
       "      box-shadow: 0px 1px 3px 1px rgba(0, 0, 0, 0.15);\n",
       "      filter: drop-shadow(0px 1px 2px rgba(0, 0, 0, 0.3));\n",
       "      fill: #FFFFFF;\n",
       "    }\n",
       "  </style>\n",
       "\n",
       "    <script>\n",
       "      const buttonEl =\n",
       "        document.querySelector('#df-58707cce-eacf-4d44-8ca7-81bec541cfa9 button.colab-df-convert');\n",
       "      buttonEl.style.display =\n",
       "        google.colab.kernel.accessAllowed ? 'block' : 'none';\n",
       "\n",
       "      async function convertToInteractive(key) {\n",
       "        const element = document.querySelector('#df-58707cce-eacf-4d44-8ca7-81bec541cfa9');\n",
       "        const dataTable =\n",
       "          await google.colab.kernel.invokeFunction('convertToInteractive',\n",
       "                                                    [key], {});\n",
       "        if (!dataTable) return;\n",
       "\n",
       "        const docLinkHtml = 'Like what you see? Visit the ' +\n",
       "          '<a target=\"_blank\" href=https://colab.research.google.com/notebooks/data_table.ipynb>data table notebook</a>'\n",
       "          + ' to learn more about interactive tables.';\n",
       "        element.innerHTML = '';\n",
       "        dataTable['output_type'] = 'display_data';\n",
       "        await google.colab.output.renderOutput(dataTable, element);\n",
       "        const docLink = document.createElement('div');\n",
       "        docLink.innerHTML = docLinkHtml;\n",
       "        element.appendChild(docLink);\n",
       "      }\n",
       "    </script>\n",
       "  </div>\n",
       "\n",
       "\n",
       "<div id=\"df-6c121119-0538-4548-a5a3-85974bc48d61\">\n",
       "  <button class=\"colab-df-quickchart\" onclick=\"quickchart('df-6c121119-0538-4548-a5a3-85974bc48d61')\"\n",
       "            title=\"Suggest charts\"\n",
       "            style=\"display:none;\">\n",
       "\n",
       "<svg xmlns=\"http://www.w3.org/2000/svg\" height=\"24px\"viewBox=\"0 0 24 24\"\n",
       "     width=\"24px\">\n",
       "    <g>\n",
       "        <path d=\"M19 3H5c-1.1 0-2 .9-2 2v14c0 1.1.9 2 2 2h14c1.1 0 2-.9 2-2V5c0-1.1-.9-2-2-2zM9 17H7v-7h2v7zm4 0h-2V7h2v10zm4 0h-2v-4h2v4z\"/>\n",
       "    </g>\n",
       "</svg>\n",
       "  </button>\n",
       "\n",
       "<style>\n",
       "  .colab-df-quickchart {\n",
       "      --bg-color: #E8F0FE;\n",
       "      --fill-color: #1967D2;\n",
       "      --hover-bg-color: #E2EBFA;\n",
       "      --hover-fill-color: #174EA6;\n",
       "      --disabled-fill-color: #AAA;\n",
       "      --disabled-bg-color: #DDD;\n",
       "  }\n",
       "\n",
       "  [theme=dark] .colab-df-quickchart {\n",
       "      --bg-color: #3B4455;\n",
       "      --fill-color: #D2E3FC;\n",
       "      --hover-bg-color: #434B5C;\n",
       "      --hover-fill-color: #FFFFFF;\n",
       "      --disabled-bg-color: #3B4455;\n",
       "      --disabled-fill-color: #666;\n",
       "  }\n",
       "\n",
       "  .colab-df-quickchart {\n",
       "    background-color: var(--bg-color);\n",
       "    border: none;\n",
       "    border-radius: 50%;\n",
       "    cursor: pointer;\n",
       "    display: none;\n",
       "    fill: var(--fill-color);\n",
       "    height: 32px;\n",
       "    padding: 0;\n",
       "    width: 32px;\n",
       "  }\n",
       "\n",
       "  .colab-df-quickchart:hover {\n",
       "    background-color: var(--hover-bg-color);\n",
       "    box-shadow: 0 1px 2px rgba(60, 64, 67, 0.3), 0 1px 3px 1px rgba(60, 64, 67, 0.15);\n",
       "    fill: var(--button-hover-fill-color);\n",
       "  }\n",
       "\n",
       "  .colab-df-quickchart-complete:disabled,\n",
       "  .colab-df-quickchart-complete:disabled:hover {\n",
       "    background-color: var(--disabled-bg-color);\n",
       "    fill: var(--disabled-fill-color);\n",
       "    box-shadow: none;\n",
       "  }\n",
       "\n",
       "  .colab-df-spinner {\n",
       "    border: 2px solid var(--fill-color);\n",
       "    border-color: transparent;\n",
       "    border-bottom-color: var(--fill-color);\n",
       "    animation:\n",
       "      spin 1s steps(1) infinite;\n",
       "  }\n",
       "\n",
       "  @keyframes spin {\n",
       "    0% {\n",
       "      border-color: transparent;\n",
       "      border-bottom-color: var(--fill-color);\n",
       "      border-left-color: var(--fill-color);\n",
       "    }\n",
       "    20% {\n",
       "      border-color: transparent;\n",
       "      border-left-color: var(--fill-color);\n",
       "      border-top-color: var(--fill-color);\n",
       "    }\n",
       "    30% {\n",
       "      border-color: transparent;\n",
       "      border-left-color: var(--fill-color);\n",
       "      border-top-color: var(--fill-color);\n",
       "      border-right-color: var(--fill-color);\n",
       "    }\n",
       "    40% {\n",
       "      border-color: transparent;\n",
       "      border-right-color: var(--fill-color);\n",
       "      border-top-color: var(--fill-color);\n",
       "    }\n",
       "    60% {\n",
       "      border-color: transparent;\n",
       "      border-right-color: var(--fill-color);\n",
       "    }\n",
       "    80% {\n",
       "      border-color: transparent;\n",
       "      border-right-color: var(--fill-color);\n",
       "      border-bottom-color: var(--fill-color);\n",
       "    }\n",
       "    90% {\n",
       "      border-color: transparent;\n",
       "      border-bottom-color: var(--fill-color);\n",
       "    }\n",
       "  }\n",
       "</style>\n",
       "\n",
       "  <script>\n",
       "    async function quickchart(key) {\n",
       "      const quickchartButtonEl =\n",
       "        document.querySelector('#' + key + ' button');\n",
       "      quickchartButtonEl.disabled = true;  // To prevent multiple clicks.\n",
       "      quickchartButtonEl.classList.add('colab-df-spinner');\n",
       "      try {\n",
       "        const charts = await google.colab.kernel.invokeFunction(\n",
       "            'suggestCharts', [key], {});\n",
       "      } catch (error) {\n",
       "        console.error('Error during call to suggestCharts:', error);\n",
       "      }\n",
       "      quickchartButtonEl.classList.remove('colab-df-spinner');\n",
       "      quickchartButtonEl.classList.add('colab-df-quickchart-complete');\n",
       "    }\n",
       "    (() => {\n",
       "      let quickchartButtonEl =\n",
       "        document.querySelector('#df-6c121119-0538-4548-a5a3-85974bc48d61 button');\n",
       "      quickchartButtonEl.style.display =\n",
       "        google.colab.kernel.accessAllowed ? 'block' : 'none';\n",
       "    })();\n",
       "  </script>\n",
       "</div>\n",
       "    </div>\n",
       "  </div>\n"
      ],
      "text/plain": [
       "            Id                                               Text Author  \\\n",
       "8239   id00001  Idris was well content with this resolve of mine.    MWS   \n",
       "986    id00002  I was faint, even fainter than the hateful mod...    HPL   \n",
       "6590   id00003  Above all, I burn to know the incidents of you...    EAP   \n",
       "13419  id00004  He might see, perhaps, one or two points with ...    EAP   \n",
       "6736   id00005  All obeyed the Lord Protector of dying England...    MWS   \n",
       "5192   id00006  It was difficult, at any given time, to say wi...    EAP   \n",
       "4396   id00007  Now, it cannot be maintained, even, that by th...    EAP   \n",
       "12072  id00009  Alien it indeed was to all art and literature ...    HPL   \n",
       "17252  id00010                \"But it is true that I am a wretch.    MWS   \n",
       "13791  id00012               They had deposited me in the coffin.    EAP   \n",
       "\n",
       "          ID                                          tokenized  \\\n",
       "8239   00001              [Idris, well, content, resolve, mine]   \n",
       "986    00002  [I, faint, even, fainter, hateful, modernity, ...   \n",
       "6590   00003  [Above, I, burn, know, incident, passage, dark...   \n",
       "13419  00004  [He, might, see, perhaps, one, two, point, unu...   \n",
       "6736   00005  [All, obeyed, Lord, Protector, dying, England,...   \n",
       "5192   00006  [It, difficult, given, time, say, certainty, u...   \n",
       "4396   00007  [Now, maintained, even, crawling, system, grea...   \n",
       "12072  00009  [Alien, indeed, art, literature, sane, balance...   \n",
       "17252  00010                             [But, true, I, wretch]   \n",
       "13791  00012                          [They, deposited, coffin]   \n",
       "\n",
       "       general_sentiment_score  \n",
       "8239                    0.5719  \n",
       "986                    -0.4939  \n",
       "6590                    0.0000  \n",
       "13419                  -0.2960  \n",
       "6736                    0.0000  \n",
       "5192                   -0.1280  \n",
       "4396                    0.6124  \n",
       "12072                  -0.8658  \n",
       "17252                   0.5719  \n",
       "13791                   0.0000  "
      ]
     },
     "execution_count": 13,
     "metadata": {},
     "output_type": "execute_result"
    }
   ],
   "source": [
    "sia = SentimentIntensityAnalyzer()\n",
    "\n",
    "def get_sentiment_score(token_list):\n",
    "    # Join the tokens into a string for analysis\n",
    "    text = ' '.join(token_list)\n",
    "    return sia.polarity_scores(text)['compound']\n",
    "\n",
    "df_clean['general_sentiment_score'] = df_clean['tokenized'].apply(get_sentiment_score)\n",
    "\n",
    "df_clean_sorted = df_clean.sort_values(by='ID', ascending=True)\n",
    "df_clean_sorted.head(10)"
   ]
  },
  {
   "cell_type": "markdown",
   "metadata": {
    "id": "AJ7rBPftRPf3"
   },
   "source": [
    "### Sentiment environnemental"
   ]
  },
  {
   "cell_type": "markdown",
   "metadata": {},
   "source": [
    "#### Dictionnaire"
   ]
  },
  {
   "cell_type": "markdown",
   "metadata": {},
   "source": [
    "L'idéal serait de récupérer un dictionnaire pré existant, spécialisé dans l'évaluation de termes écologique, qui attribue une score à chaque terme. La difficulté à trouver ce type de dictionnaire nous mène dans un premier temps à creuser d'autres pistes de substitution. Nous verrons plus tard si nous réussissons à trouver un dictionnaire préexistant"
   ]
  },
  {
   "cell_type": "markdown",
   "metadata": {},
   "source": [
    "#### Alternative aux dictionnaires pré-existants"
   ]
  },
  {
   "cell_type": "markdown",
   "metadata": {},
   "source": [
    "Problème pour l'amélioration du dictionnaire : on ne trouve pas de dictionnaire préexistant avec comme spécialité l'environnement. Deux options : \n",
    "\n",
    " - Améliorer notre dictionnaire fait main:\n",
    "   - Avantage : On peut contrôler le poid associé à chaque mot, dans la note\n",
    "   - Inconvéniant : COnstruction peu rigoureuse, on peut avoir oublié des mots\n",
    "  \n",
    " - Utiliser un dictionnaire généraliste :\n",
    "   - Avantage : Construction plus rigoureuse, moins de chance d'oublier certains termes\n",
    "   - Inconvénient : Pas de contrôle sur le poid des mots"
   ]
  },
  {
   "cell_type": "markdown",
   "metadata": {},
   "source": [
    "##### Le dictionnaire fait main"
   ]
  },
  {
   "cell_type": "markdown",
   "metadata": {},
   "source": [
    "Pour le moment, on ne trouve pas de dictionnaire pré-existant, dont chaque terme peut être associé à une note environnementale. On propose donc de construire nous même un dictionnaire, un en français et l'autre en anglais."
   ]
  },
  {
   "cell_type": "code",
   "execution_count": 14,
   "metadata": {},
   "outputs": [],
   "source": [
    "# Créer un dictionnaire de termes environnementaux positifs\n",
    "Dico_env_fr = {\n",
    "    \"propre\": 1,\n",
    "    \"écologique\": 1,\n",
    "    \"durable\": 1,\n",
    "    \"vert\": 1,\n",
    "    \"économie d'énergie\": 1,\n",
    "    \"renouvelable\": 1,\n",
    "    \"responsable\": 1,\n",
    "    \"conservation\": 1,\n",
    "    \"biodiversité\": 1,\n",
    "    \"sain\": 1,\n",
    "    \"bio\": 1,\n",
    "    \"éco-friendly\": 1,\n",
    "    \"respectueux de l'environnement\": 1,\n",
    "    \"efficace\": 1,\n",
    "    \"innovant\": 1,\n",
    "    \"éthique\": 1,\n",
    "    \"équitable\": 1,\n",
    "    \"efficience\": 1,\n",
    "    \"responsabilité sociale\": 1,\n",
    "    \"sustainable\": 1,\n",
    "    \"solidaire\": 1,\n",
    "    \"propagation consciente\": 1,\n",
    "    \"soutenable\": 1,\n",
    "    \"énergie propre\": 1,\n",
    "    \"énergie renouvelable\": 1,\n",
    "    \"recyclage\": 1,\n",
    "    \"efficacité énergétique\": 1,\n",
    "    \"économie circulaire\": 1,\n",
    "    \"énergie solaire\": 1,\n",
    "    \"énergie éolienne\": 1,\n",
    "    \"régénération\": 1,\n",
    "    \"préservation\": 1,\n",
    "    \"restauration\": 1,\n",
    "    \"réhabilitation\": 1,\n",
    "    \"récupération\": 1,\n",
    "    \"restaurateur\": 1,\n",
    "    \"régénérateur\": 1,\n",
    "    \"revitalisation\": 1,\n",
    "    \"positif\": 1,\n",
    "    \"bénéfique\": 1,\n",
    "    \"valorisation\": 1,\n",
    "    \"épanouissement\": 1,\n",
    "    \"amélioration continue\": 1,\n",
    "    \"prospérité\": 1,\n",
    "    \"harmonie\": 1,\n",
    "    \"intégrité\": 1,\n",
    "    \"consommation responsable\": 1,\n",
    "    \"éco-responsable\": 1,\n",
    "    \"éco-conscient\": 1,\n",
    "    \"durabilité\": 1,\n",
    "    \"récupérable\": 1,\n",
    "    \"énergie verte\": 1,\n",
    "    \"effet de serre\": 1,\n",
    "    \"éco-efficace\": 1,\n",
    "    \"éco-innovation\": 1,\n",
    "    \"bien-être\": 1,\n",
    "    \"éco-design\": 1,\n",
    "    \"agroécologie\": 1,\n",
    "    \"permaculture\": 1,\n",
    "    \"éco-citoyen\": 1,\n",
    "    \"carbone neutre\": 1,\n",
    "    \"zéro déchet\": 1,\n",
    "    \"biologique\": 1,\n",
    "    \"éco-label\": 1,\n",
    "    \"mobilité durable\": 1,\n",
    "    \"éco-tourisme\": 1,\n",
    "    \"éco-habitat\": 1,\n",
    "    \"consommation consciente\": 1,\n",
    "\n",
    "    \"pollution\": -1,\n",
    "    \"déchet\": -1,\n",
    "    \"déforestation\": -1,\n",
    "    \"émissions de gaz à effet de serre\": -1,\n",
    "    \"contamination\": -1,\n",
    "    \"destructeur\": -1,\n",
    "    \"irresponsable\": -1,\n",
    "    \"gaspillage\": -1,\n",
    "    \"nuisible\": -1,\n",
    "    \"toxique\": -1,\n",
    "    \"détérioration\": -1,\n",
    "    \"dégradation\": -1,\n",
    "    \"dommageable\": -1,\n",
    "    \"préjudiciable\": -1,\n",
    "    \"périlleux\": -1,\n",
    "    \"inquiétant\": -1,\n",
    "    \"catastrophique\": -1,\n",
    "    \"catastrophe\": -1,\n",
    "    \"dangereux\": -1,\n",
    "    \"menace\": -1,\n",
    "    \"risque\": -1,\n",
    "    \"nocif\": -1,\n",
    "    \"néfaste\": -1,\n",
    "    \"inadéquat\": -1,\n",
    "    \"inapproprié\": -1,\n",
    "    \"inopportun\": -1,\n",
    "    \"nuire\": -1,\n",
    "    \"endommagement\": -1,\n",
    "    \"dommages\": -1,\n",
    "    \"polluant\": -1,\n",
    "    \"polluer\": -1,\n",
    "    \"détériorer\": -1,\n",
    "    \"perturbation\": -1,\n",
    "    \"irrespectueux\": -1,\n",
    "    \"malveillant\": -1,\n",
    "    \"dégât\": -1,\n",
    "    \"agressif\": -1,\n",
    "    \"ravageur\": -1,\n",
    "    \"gâcher\": -1,\n",
    "    \"perturber\": -1,\n",
    "    \"endommager\": -1,\n",
    "    \"irréparable\": -1,\n",
    "    \"toxicité\": -1,\n",
    "    \"inacceptable\": -1,\n",
    "    \"dommage écologique\": -1,\n",
    "    \"abattage illégal\": -1,\n",
    "    \"surconsommation\": -1,\n",
    "    \"pillage des ressources\": -1,\n",
    "    \"dégradation de l'environnement\": -1,\n",
    "    \"espace naturel détruit\": -1,\n",
    "    \"exploitation excessive\": -1,\n",
    "    \"surexploitation\": -1,\n",
    "    \"réchauffement climatique\": -1,\n",
    "    \"déni environnemental\": -1,\n",
    "}\n",
    "liste_negation = [\"pas\", \"non\",\"jamais\", \"aucun\", \"nul\", \"rien\", \"personne\", \"négatif\", \"sans\", \"plus\", \"moins\"]\n",
    "\n",
    "liste_annulation_negation = [\"responsable\",\"à l'origine\",\"la source\"]"
   ]
  },
  {
   "cell_type": "code",
   "execution_count": 13,
   "metadata": {},
   "outputs": [],
   "source": [
    "Dico_env_en = {\n",
    "    \n",
    "    \"clean\": 1,\n",
    "    \"ecological\": 1,\n",
    "    \"sustainable\": 1,\n",
    "    \"green\": 1,\n",
    "    \"energy-efficient\": 1,\n",
    "    \"renewable\": 1,\n",
    "    \"responsible\": 1,\n",
    "    \"conservation\": 1,\n",
    "    \"biodiversity\": 1,\n",
    "    \"healthy\": 1,\n",
    "    \"organic\": 1,\n",
    "    \"eco-friendly\": 1,\n",
    "    \"environmentally friendly\": 1,\n",
    "    \"efficient\": 1,\n",
    "    \"innovative\": 1,\n",
    "    \"ethical\": 1,\n",
    "    \"fair\": 1,\n",
    "    \"efficiency\": 1,\n",
    "    \"social responsibility\": 1,\n",
    "    \"sustainable\": 1,\n",
    "    \"solidarity\": 1,\n",
    "    \"conscious spreading\": 1,\n",
    "    \"sustainable\": 1,\n",
    "    \"clean energy\": 1,\n",
    "    \"renewable energy\": 1,\n",
    "    \"recycling\": 1,\n",
    "    \"energy efficiency\": 1,\n",
    "    \"circular economy\": 1,\n",
    "    \"solar energy\": 1,\n",
    "    \"wind energy\": 1,\n",
    "    \"regeneration\": 1,\n",
    "    \"preservation\": 1,\n",
    "    \"restoration\": 1,\n",
    "    \"rehabilitation\": 1,\n",
    "    \"recovery\": 1,\n",
    "    \"restorer\": 1,\n",
    "    \"regenerator\": 1,\n",
    "    \"revitalization\": 1,\n",
    "    \"positive\": 1,\n",
    "    \"beneficial\": 1,\n",
    "    \"valorization\": 1,\n",
    "    \"fulfillment\": 1,\n",
    "    \"continuous improvement\": 1,\n",
    "    \"prosperity\": 1,\n",
    "    \"harmony\": 1,\n",
    "    \"integrity\": 1,\n",
    "    \"responsible consumption\": 1,\n",
    "    \"eco-responsible\": 1,\n",
    "    \"eco-conscious\": 1,\n",
    "    \"sustainability\": 1,\n",
    "    \"recoverable\": 1,\n",
    "    \"green energy\": 1,\n",
    "    \"greenhouse effect\": 1,\n",
    "    \"eco-efficient\": 1,\n",
    "    \"eco-innovation\": 1,\n",
    "    \"well-being\": 1,\n",
    "    \"eco-design\": 1,\n",
    "    \"agroecology\": 1,\n",
    "    \"permaculture\": 1,\n",
    "    \"eco-citizen\": 1,\n",
    "    \"carbon neutral\": 1,\n",
    "    \"zero waste\": 1,\n",
    "    \"organic\": 1,\n",
    "    \"eco-label\": 1,\n",
    "    \"sustainable mobility\": 1,\n",
    "    \"eco-tourism\": 1,\n",
    "    \"eco-habitat\": 1,\n",
    "    \"conscious consumption\": 1,\n",
    "    \n",
    "    \"pollution\": -1,\n",
    "    \"waste\": -1,\n",
    "    \"deforestation\": -1,\n",
    "    \"greenhouse gas emissions\": -1,\n",
    "    \"contamination\": -1,\n",
    "    \"destructive\": -1,\n",
    "    \"irresponsible\": -1,\n",
    "    \"wasteful\": -1,\n",
    "    \"harmful\": -1,\n",
    "    \"toxic\": -1,\n",
    "    \"deterioration\": -1,\n",
    "    \"degradation\": -1,\n",
    "    \"damaging\": -1,\n",
    "    \"harmful\": -1,\n",
    "    \"perilous\": -1,\n",
    "    \"worrisome\": -1,\n",
    "    \"catastrophic\": -1,\n",
    "    \"catastrophe\": -1,\n",
    "    \"dangerous\": -1,\n",
    "    \"threat\": -1,\n",
    "    \"risk\": -1,\n",
    "    \"hazardous\": -1,\n",
    "    \"harmful\": -1,\n",
    "    \"inappropriate\": -1,\n",
    "    \"inadequate\": -1,\n",
    "    \"inappropriate\": -1,\n",
    "    \"harm\": -1,\n",
    "    \"damage\": -1,\n",
    "    \"pollutant\": -1,\n",
    "    \"pollute\": -1,\n",
    "    \"deteriorate\": -1,\n",
    "    \"disruption\": -1,\n",
    "    \"disrespectful\": -1,\n",
    "    \"malevolent\": -1,\n",
    "    \"damage\": -1,\n",
    "    \"aggressive\": -1,\n",
    "    \"ravager\": -1,\n",
    "    \"spoil\": -1,\n",
    "    \"disturb\": -1,\n",
    "    \"damage\": -1,\n",
    "    \"irreparable\": -1,\n",
    "    \"toxicity\": -1,\n",
    "    \"unacceptable\": -1,\n",
    "    \"ecological damage\": -1,\n",
    "    \"illegal logging\": -1,\n",
    "    \"overconsumption\": -1,\n",
    "    \"resource plundering\": -1,\n",
    "    \"environmental degradation\": -1,\n",
    "    \"destroyed natural habitat\": -1,\n",
    "    \"excessive exploitation\": -1,\n",
    "    \"overexploitation\": -1,\n",
    "    \"climate change\": -1,\n",
    "    \"environmental denial\": -1,\n",
    "}\n",
    "\n",
    "negation_list = [\"not\", \"no\", \"never\", \"none\", \"nil\", \"nothing\", \"nobody\", \"negative\", \"without\", \"more\", \"less\"]\n",
    "\n",
    "negation_cancellation_list = [\"responsible\", \"originally\", \"source\"]"
   ]
  },
  {
   "cell_type": "markdown",
   "metadata": {},
   "source": [
    "##### Dictionnaire généraliste"
   ]
  },
  {
   "cell_type": "markdown",
   "metadata": {},
   "source": [
    "Afin d'explorer la puissance d'un dictionnaire pré exsitant, nous faisant le choix de considérer un dictionnaire pré-existant, même s'il n'est pas spécialisé dans l'environnement"
   ]
  },
  {
   "cell_type": "code",
   "execution_count": 9,
   "metadata": {},
   "outputs": [
    {
     "name": "stderr",
     "output_type": "stream",
     "text": [
      "[nltk_data] Downloading package wordnet to /home/onyxia/nltk_data...\n",
      "[nltk_data]   Package wordnet is already up-to-date!\n",
      "[nltk_data] Downloading package sentiwordnet to\n",
      "[nltk_data]     /home/onyxia/nltk_data...\n",
      "[nltk_data]   Unzipping corpora/sentiwordnet.zip.\n"
     ]
    },
    {
     "name": "stdout",
     "output_type": "stream",
     "text": [
      "Scores de sentiment pour le terme 'good':\n",
      "POS: 0.5, NEG: 0.0, OBJ: 0.5\n",
      "POS: 0.875, NEG: 0.0, OBJ: 0.125\n",
      "POS: 0.625, NEG: 0.0, OBJ: 0.375\n",
      "POS: 0.0, NEG: 0.0, OBJ: 1.0\n",
      "POS: 0.75, NEG: 0.0, OBJ: 0.25\n",
      "POS: 0.0, NEG: 0.0, OBJ: 1.0\n",
      "POS: 1.0, NEG: 0.0, OBJ: 0.0\n",
      "POS: 1.0, NEG: 0.0, OBJ: 0.0\n",
      "POS: 0.625, NEG: 0.0, OBJ: 0.375\n",
      "POS: 1.0, NEG: 0.0, OBJ: 0.0\n",
      "POS: 0.75, NEG: 0.0, OBJ: 0.25\n",
      "POS: 0.625, NEG: 0.0, OBJ: 0.375\n",
      "POS: 0.625, NEG: 0.0, OBJ: 0.375\n",
      "POS: 0.5, NEG: 0.0, OBJ: 0.5\n",
      "POS: 0.5, NEG: 0.0, OBJ: 0.5\n",
      "POS: 0.375, NEG: 0.0, OBJ: 0.625\n",
      "POS: 0.625, NEG: 0.0, OBJ: 0.375\n",
      "POS: 0.0, NEG: 0.0, OBJ: 1.0\n",
      "POS: 0.625, NEG: 0.0, OBJ: 0.375\n",
      "POS: 0.75, NEG: 0.0, OBJ: 0.25\n",
      "POS: 0.75, NEG: 0.0, OBJ: 0.25\n",
      "POS: 0.875, NEG: 0.0, OBJ: 0.125\n",
      "POS: 0.5, NEG: 0.0, OBJ: 0.5\n",
      "POS: 0.375, NEG: 0.125, OBJ: 0.5\n",
      "POS: 0.75, NEG: 0.0, OBJ: 0.25\n",
      "POS: 0.375, NEG: 0.0, OBJ: 0.625\n",
      "POS: 0.0, NEG: 0.0, OBJ: 1.0\n",
      "\n",
      "Scores de sentiment pour le terme 'bad':\n",
      "POS: 0.0, NEG: 0.875, OBJ: 0.125\n",
      "POS: 0.0, NEG: 0.625, OBJ: 0.375\n",
      "POS: 0.25, NEG: 0.25, OBJ: 0.5\n",
      "POS: 0.0, NEG: 0.75, OBJ: 0.25\n",
      "POS: 0.0, NEG: 0.75, OBJ: 0.25\n",
      "POS: 0.0, NEG: 0.625, OBJ: 0.375\n",
      "POS: 0.0, NEG: 0.75, OBJ: 0.25\n",
      "POS: 0.0, NEG: 0.625, OBJ: 0.375\n",
      "POS: 0.0, NEG: 0.5, OBJ: 0.5\n",
      "POS: 0.0, NEG: 0.75, OBJ: 0.25\n",
      "POS: 0.0, NEG: 1.0, OBJ: 0.0\n",
      "POS: 0.0, NEG: 0.375, OBJ: 0.625\n",
      "POS: 0.0, NEG: 0.75, OBJ: 0.25\n",
      "POS: 0.0, NEG: 0.75, OBJ: 0.25\n",
      "POS: 0.0, NEG: 0.75, OBJ: 0.25\n",
      "POS: 0.125, NEG: 0.25, OBJ: 0.625\n",
      "POS: 0.125, NEG: 0.25, OBJ: 0.625\n",
      "\n",
      "Scores de sentiment pour le terme 'environment':\n",
      "POS: 0.0, NEG: 0.0, OBJ: 1.0\n",
      "POS: 0.0, NEG: 0.0, OBJ: 1.0\n",
      "\n",
      "Scores de sentiment pour le terme 'technology':\n",
      "POS: 0.0, NEG: 0.0, OBJ: 1.0\n",
      "POS: 0.0, NEG: 0.0, OBJ: 1.0\n",
      "\n",
      "Scores de sentiment pour le terme 'greenhouse':\n",
      "POS: 0.0, NEG: 0.0, OBJ: 1.0\n",
      "POS: 0.0, NEG: 0.0, OBJ: 1.0\n",
      "\n",
      "Scores de sentiment pour le terme 'gases':\n",
      "POS: 0.0, NEG: 0.0, OBJ: 1.0\n",
      "POS: 0.0, NEG: 0.0, OBJ: 1.0\n",
      "POS: 0.0, NEG: 0.0, OBJ: 1.0\n",
      "POS: 0.0, NEG: 0.0, OBJ: 1.0\n",
      "POS: 0.0, NEG: 0.0, OBJ: 1.0\n",
      "POS: 0.0, NEG: 0.0, OBJ: 1.0\n",
      "POS: 0.0, NEG: 0.0, OBJ: 1.0\n",
      "POS: 0.0, NEG: 0.0, OBJ: 1.0\n",
      "\n",
      "Aucun synset trouvé pour le terme 'greenhouse gas'.\n",
      "\n"
     ]
    }
   ],
   "source": [
    "import nltk\n",
    "from nltk.corpus import sentiwordnet as swn\n",
    "from nltk.corpus import wordnet as wn\n",
    "nltk.download('wordnet')\n",
    "nltk.download('sentiwordnet')\n",
    "\n",
    "# Termes à examiner\n",
    "terms = [\"good\", \"bad\", \"environment\", \"technology\",\"greenhouse\",\"gases\",\"greenhouse gas\"]\n",
    "\n",
    "for term in terms:\n",
    "    # Obtenir les synsets associés au terme\n",
    "    synsets = list(swn.senti_synsets(term))\n",
    "\n",
    "    if synsets:\n",
    "        print(f\"Scores de sentiment pour le terme '{term}':\")\n",
    "        for synset in synsets:\n",
    "            print(f\"POS: {synset.pos_score()}, NEG: {synset.neg_score()}, OBJ: {synset.obj_score()}\")\n",
    "        print()\n",
    "    else:\n",
    "        print(f\"Aucun synset trouvé pour le terme '{term}'.\\n\")"
   ]
  },
  {
   "cell_type": "markdown",
   "metadata": {},
   "source": [
    "Analyse : On a l'avantage d'avoir trois notes, qui représentent la part de positivité, de négativité et de neutralité du mot => Avancé par rapport à ce qu'on avait proposé. De plus, on considère qu'il y a plusieurs sens à chaque mot, d'où le fait qu'il y ait plusieurs évaluation pour chaque terme\n",
    "Avantage ; l'algorithme choisi la note du mot en fonction du contexte ?\n",
    "Problème : les coefficients ne sont pas forcément bons, par exemple, gases n'est jamais négatif, toujours neutre... pourquoi ?\n",
    "\n",
    "On test maintenant sur une phrase entière :"
   ]
  },
  {
   "cell_type": "code",
   "execution_count": 10,
   "metadata": {},
   "outputs": [
    {
     "name": "stdout",
     "output_type": "stream",
     "text": [
      "Score de la phrase: (0.16182795698924732, 0.020833333333333332, 0.6506720430107527)\n"
     ]
    },
    {
     "name": "stderr",
     "output_type": "stream",
     "text": [
      "[nltk_data] Downloading package wordnet to /home/onyxia/nltk_data...\n",
      "[nltk_data]   Package wordnet is already up-to-date!\n",
      "[nltk_data] Downloading package sentiwordnet to\n",
      "[nltk_data]     /home/onyxia/nltk_data...\n",
      "[nltk_data]   Package sentiwordnet is already up-to-date!\n",
      "[nltk_data] Downloading package punkt to /home/onyxia/nltk_data...\n",
      "[nltk_data]   Package punkt is already up-to-date!\n"
     ]
    }
   ],
   "source": [
    "import nltk\n",
    "from nltk.corpus import sentiwordnet as swn\n",
    "from nltk.corpus import wordnet as wn\n",
    "from nltk.tokenize import word_tokenize\n",
    "\n",
    "nltk.download('wordnet')\n",
    "nltk.download('sentiwordnet')\n",
    "nltk.download('punkt')\n",
    "\n",
    "def get_sentiment_scores(term):\n",
    "    synsets = list(swn.senti_synsets(term))\n",
    "    if synsets:\n",
    "        pos_score = sum(s.pos_score() for s in synsets) / len(synsets)\n",
    "        neg_score = sum(s.neg_score() for s in synsets) / len(synsets)\n",
    "        obj_score = sum(s.obj_score() for s in synsets) / len(synsets)\n",
    "\n",
    "        # Normaliser les scores\n",
    "        total_score = pos_score + neg_score + obj_score\n",
    "        if total_score != 0:\n",
    "            pos_score /= total_score\n",
    "            neg_score /= total_score\n",
    "            obj_score /= total_score\n",
    "\n",
    "        return pos_score, neg_score, obj_score\n",
    "    else:\n",
    "        return 0, 0, 0\n",
    "\n",
    "def analyze_sentence(sentence):\n",
    "    tokens = word_tokenize(sentence)\n",
    "    scores = []\n",
    "\n",
    "    for token in tokens:\n",
    "        pos_score, neg_score, obj_score = get_sentiment_scores(token)\n",
    "        scores.append((pos_score, neg_score, obj_score))\n",
    "\n",
    "    # Calculer les scores moyens pour la phrase\n",
    "    avg_pos_score = sum(score[0] for score in scores) / len(scores)\n",
    "    avg_neg_score = sum(score[1] for score in scores) / len(scores)\n",
    "    avg_obj_score = sum(score[2] for score in scores) / len(scores)\n",
    "\n",
    "    return avg_pos_score, avg_neg_score, avg_obj_score\n",
    "\n",
    "# Exemple d'utilisation\n",
    "phrase = \"Clean technology promotes sustainable development.\"\n",
    "score_phrase = analyze_sentence(phrase)\n",
    "print(\"Score de la phrase:\", score_phrase)"
   ]
  },
  {
   "cell_type": "markdown",
   "metadata": {},
   "source": [
    "On remarque un taux de positivité de 16%, contre un taux de négativité de 2%, ainsi qu'un taux de neutralité de 65%. C'est un résultat relativement encourageant, étant donné qu'on a proposé une phrase à l'algorithme qui semblait être positive d'un point de vue environnemental.\n",
    "\n",
    "On compare ce score au score qu'a la négation de la phrase testée"
   ]
  },
  {
   "cell_type": "code",
   "execution_count": 11,
   "metadata": {},
   "outputs": [
    {
     "name": "stdout",
     "output_type": "stream",
     "text": [
      "Score de la phrase: (0.12241263440860216, 0.019791666666666666, 0.6077956989247312)\n"
     ]
    }
   ],
   "source": [
    "phrase = \"Clean technology doesn't promotes sustainable development.\"\n",
    "score_phrase = analyze_sentence(phrase)\n",
    "print(\"Score de la phrase:\", score_phrase)"
   ]
  },
  {
   "cell_type": "markdown",
   "metadata": {},
   "source": [
    "Analyse : Résultats moins encourageant. On observe en effet une baisse du taux de positivité, qui passe de 0.16 à 0.12, en revanche, le taux de négativité n'a pas augmenté, et reste faible, alors même que la phrase semble négative\n",
    "\n",
    "On test sur une autre phrase négative"
   ]
  },
  {
   "cell_type": "code",
   "execution_count": 12,
   "metadata": {},
   "outputs": [
    {
     "name": "stdout",
     "output_type": "stream",
     "text": [
      "Score de la phrase: (0.0078125, 0.046875, 0.1953125)\n"
     ]
    }
   ],
   "source": [
    "phrase = \"Pfizer destroyes environement.\"\n",
    "score_phrase = analyze_sentence(phrase)\n",
    "print(\"Score de la phrase:\", score_phrase)"
   ]
  },
  {
   "cell_type": "markdown",
   "metadata": {},
   "source": [
    "Score positif très faible, mais le négatif également. Est-ce intéressant de faire un rapport des deux ? On reste incertain quant à la significativité de la construction de notre note"
   ]
  },
  {
   "cell_type": "markdown",
   "metadata": {},
   "source": [
    "#### Dictionnaire"
   ]
  },
  {
   "cell_type": "markdown",
   "metadata": {
    "id": "W_jSzcowY2Uy"
   },
   "source": [
    "On suppose que l'on a un dictionnaire `Dico_env` contenant les mots environnementaux, associés avec un score $\\in [-1,1]$. Par ex: {'pollution': -1, 'conservation': 1}"
   ]
  },
  {
   "cell_type": "markdown",
   "metadata": {
    "id": "rC0efxYkYiJA"
   },
   "source": [
    "#### Colonne environmental_sentiment_score"
   ]
  },
  {
   "cell_type": "code",
   "execution_count": null,
   "metadata": {
    "id": "wQrq34eQRM11"
   },
   "outputs": [],
   "source": [
    "def get_environmental_score(token_list, Dico_env):\n",
    "    score = 0\n",
    "    token_count = len(token_list)\n",
    "\n",
    "    for token in token_list:\n",
    "        if token in Dico_env:\n",
    "            score += Dico_env[token]\n",
    "\n",
    "    # Normalize the score to be between -1 and 1\n",
    "    if token_count > 0:\n",
    "        normalized_score = score / token_count\n",
    "        return max(min(normalized_score, 1), -1)\n",
    "    else:\n",
    "        return 0\n",
    "\n",
    "df_clean['environmental_sentiment_score'] = df_clean['tokenized'].apply(lambda x: get_environmental_score(x, Dico_env))\n",
    "\n",
    "df_clean_sorted = df_clean.sort_values(by='ID', ascending=True)\n",
    "df_clean_sorted.head(10)"
   ]
  },
  {
   "cell_type": "markdown",
   "metadata": {
    "id": "PX7KM0duezTz"
   },
   "source": [
    "## Idée avec une base de données"
   ]
  },
  {
   "cell_type": "markdown",
   "metadata": {
    "id": "vkb1ZHzje3fw"
   },
   "source": [
    "Si on a une base de données qui contient un certain nomre d'articles deja labellisés avec une note environnementale, on pourrait entrainer un modèle de machine learning plus traditionnel que de l'analyse de sentiment.\n",
    "\n",
    "en effet, on peut passer par de la vectorization des mots par TF-IDF (ou autre - à voir), puis entrainer un modèle de régression linéaire (ou autre - à voir), et prédire pour les nouveaux articles."
   ]
  },
  {
   "cell_type": "code",
   "execution_count": null,
   "metadata": {
    "id": "GYxpksZle1d_"
   },
   "outputs": [],
   "source": [
    "from sklearn.feature_extraction.text import TfidfVectorizer\n",
    "from sklearn.model_selection import train_test_split\n",
    "from sklearn.metrics import mean_squared_error\n",
    "from sklearn.linear_model import LinearRegression\n",
    "\n",
    "vectorizer = TfidfVectorizer()\n",
    "X = vectorizer.fit_transform(dataset['text'])  # 'texts' is the column with your text data\n",
    "y = dataset['scores']  # 'scores' is the column with your positivity scores\n",
    "\n",
    "X_train, X_test, y_train, y_test = train_test_split(X, y, test_size=0.2, random_state=42)\n",
    "\n",
    "model = LinearRegression()\n",
    "model.fit(X_train, y_train)\n",
    "\n",
    "\n",
    "y_pred = model.predict(X_test)\n",
    "mse = mean_squared_error(y_test, y_pred)\n",
    "print(f'Mean Squared Error: {mse}')\n",
    "\n",
    "new_text = vectorizer.transform([\"New text\"])\n",
    "new_score = model.predict(new_text)\n",
    "print(f'Predicted Sentiment Score: {new_score}')\n",
    "\n"
   ]
  }
 ],
 "metadata": {
  "colab": {
   "provenance": [],
   "toc_visible": true
  },
  "kernelspec": {
   "display_name": "Python 3 (ipykernel)",
   "language": "python",
   "name": "python3"
  },
  "language_info": {
   "codemirror_mode": {
    "name": "ipython",
    "version": 3
   },
   "file_extension": ".py",
   "mimetype": "text/x-python",
   "name": "python",
   "nbconvert_exporter": "python",
   "pygments_lexer": "ipython3",
   "version": "3.10.13"
  }
 },
 "nbformat": 4,
 "nbformat_minor": 4
}
